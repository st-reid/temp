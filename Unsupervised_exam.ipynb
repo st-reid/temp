{
  "nbformat": 4,
  "nbformat_minor": 0,
  "metadata": {
    "kernelspec": {
      "display_name": "Python 3",
      "language": "python",
      "name": "python3"
    },
    "language_info": {
      "codemirror_mode": {
        "name": "ipython",
        "version": 3
      },
      "file_extension": ".py",
      "mimetype": "text/x-python",
      "name": "python",
      "nbconvert_exporter": "python",
      "pygments_lexer": "ipython3",
      "version": "3.7.6"
    },
    "colab": {
      "name": "Unsupervised_exam.ipynb",
      "provenance": [],
      "collapsed_sections": [],
      "toc_visible": true,
      "include_colab_link": true
    }
  },
  "cells": [
    {
      "cell_type": "markdown",
      "metadata": {
        "id": "view-in-github",
        "colab_type": "text"
      },
      "source": [
        "<a href=\"https://colab.research.google.com/github/st-reid/temp/blob/main/Unsupervised_exam.ipynb\" target=\"_parent\"><img src=\"https://colab.research.google.com/assets/colab-badge.svg\" alt=\"Open In Colab\"/></a>"
      ]
    },
    {
      "cell_type": "markdown",
      "metadata": {
        "id": "Xa3cf2XAzD-g"
      },
      "source": [
        "Import packages"
      ]
    },
    {
      "cell_type": "code",
      "metadata": {
        "id": "-N5zemSpzOL3",
        "outputId": "c0831d4a-82f9-4df6-a57b-c09be758ed29",
        "colab": {
          "base_uri": "https://localhost:8080/"
        }
      },
      "source": [
        "!pip install geopandas\n",
        "!pip install mpld3"
      ],
      "execution_count": 63,
      "outputs": [
        {
          "output_type": "stream",
          "text": [
            "Requirement already satisfied: geopandas in /usr/local/lib/python3.6/dist-packages (0.8.1)\n",
            "Requirement already satisfied: pyproj>=2.2.0 in /usr/local/lib/python3.6/dist-packages (from geopandas) (2.6.1.post1)\n",
            "Requirement already satisfied: fiona in /usr/local/lib/python3.6/dist-packages (from geopandas) (1.8.17)\n",
            "Requirement already satisfied: pandas>=0.23.0 in /usr/local/lib/python3.6/dist-packages (from geopandas) (1.1.4)\n",
            "Requirement already satisfied: shapely in /usr/local/lib/python3.6/dist-packages (from geopandas) (1.7.1)\n",
            "Requirement already satisfied: six>=1.7 in /usr/local/lib/python3.6/dist-packages (from fiona->geopandas) (1.15.0)\n",
            "Requirement already satisfied: attrs>=17 in /usr/local/lib/python3.6/dist-packages (from fiona->geopandas) (20.2.0)\n",
            "Requirement already satisfied: click<8,>=4.0 in /usr/local/lib/python3.6/dist-packages (from fiona->geopandas) (7.1.2)\n",
            "Requirement already satisfied: munch in /usr/local/lib/python3.6/dist-packages (from fiona->geopandas) (2.5.0)\n",
            "Requirement already satisfied: click-plugins>=1.0 in /usr/local/lib/python3.6/dist-packages (from fiona->geopandas) (1.1.1)\n",
            "Requirement already satisfied: cligj>=0.5 in /usr/local/lib/python3.6/dist-packages (from fiona->geopandas) (0.7.0)\n",
            "Requirement already satisfied: numpy>=1.15.4 in /usr/local/lib/python3.6/dist-packages (from pandas>=0.23.0->geopandas) (1.18.5)\n",
            "Requirement already satisfied: pytz>=2017.2 in /usr/local/lib/python3.6/dist-packages (from pandas>=0.23.0->geopandas) (2018.9)\n",
            "Requirement already satisfied: python-dateutil>=2.7.3 in /usr/local/lib/python3.6/dist-packages (from pandas>=0.23.0->geopandas) (2.8.1)\n",
            "Collecting mpld3\n",
            "\u001b[?25l  Downloading https://files.pythonhosted.org/packages/66/31/89bd2afd21b920e3612996623e7b3aac14d741537aa77600ea5102a34be0/mpld3-0.5.1.tar.gz (1.0MB)\n",
            "\u001b[K     |████████████████████████████████| 1.0MB 4.2MB/s \n",
            "\u001b[?25hRequirement already satisfied: jinja2 in /usr/local/lib/python3.6/dist-packages (from mpld3) (2.11.2)\n",
            "Requirement already satisfied: matplotlib in /usr/local/lib/python3.6/dist-packages (from mpld3) (3.2.2)\n",
            "Requirement already satisfied: MarkupSafe>=0.23 in /usr/local/lib/python3.6/dist-packages (from jinja2->mpld3) (1.1.1)\n",
            "Requirement already satisfied: pyparsing!=2.0.4,!=2.1.2,!=2.1.6,>=2.0.1 in /usr/local/lib/python3.6/dist-packages (from matplotlib->mpld3) (2.4.7)\n",
            "Requirement already satisfied: python-dateutil>=2.1 in /usr/local/lib/python3.6/dist-packages (from matplotlib->mpld3) (2.8.1)\n",
            "Requirement already satisfied: numpy>=1.11 in /usr/local/lib/python3.6/dist-packages (from matplotlib->mpld3) (1.18.5)\n",
            "Requirement already satisfied: cycler>=0.10 in /usr/local/lib/python3.6/dist-packages (from matplotlib->mpld3) (0.10.0)\n",
            "Requirement already satisfied: kiwisolver>=1.0.1 in /usr/local/lib/python3.6/dist-packages (from matplotlib->mpld3) (1.3.1)\n",
            "Requirement already satisfied: six>=1.5 in /usr/local/lib/python3.6/dist-packages (from python-dateutil>=2.1->matplotlib->mpld3) (1.15.0)\n",
            "Building wheels for collected packages: mpld3\n",
            "  Building wheel for mpld3 (setup.py) ... \u001b[?25l\u001b[?25hdone\n",
            "  Created wheel for mpld3: filename=mpld3-0.5.1-cp36-none-any.whl size=364064 sha256=749d25d5081c54f71002b8fbe57ac99cb59216d800c7a15708e83d3ca6207b4e\n",
            "  Stored in directory: /root/.cache/pip/wheels/38/68/06/d119af6c3f9a2d1e123c1f72d276576b457131b3a7bf94e402\n",
            "Successfully built mpld3\n",
            "Installing collected packages: mpld3\n",
            "Successfully installed mpld3-0.5.1\n"
          ],
          "name": "stdout"
        }
      ]
    },
    {
      "cell_type": "code",
      "metadata": {
        "id": "tj5XDEbezD-h"
      },
      "source": [
        "#import packages\n",
        "import numpy as np\n",
        "import pandas as pd\n",
        "import geopandas as gpd\n",
        "import datetime\n",
        "from datetime import timedelta\n",
        "\n",
        "from datetime import datetime\n",
        "from sklearn import preprocessing\n",
        "from sklearn.datasets import make_blobs\n",
        "from sklearn.preprocessing import StandardScaler\n",
        "from sklearn.cluster import AgglomerativeClustering\n",
        "\n",
        "## models\n",
        "from sklearn.cluster import KMeans\n",
        "\n",
        "# plotting\n",
        "import matplotlib.pyplot as plt\n",
        "import seaborn as sns\n",
        "%matplotlib inline\n",
        "from matplotlib.colors import ListedColormap\n",
        "import plotly.graph_objects as go\n",
        "import plotly.express as px"
      ],
      "execution_count": 4,
      "outputs": []
    },
    {
      "cell_type": "code",
      "metadata": {
        "id": "mlWjrkkBzD-m",
        "outputId": "0d7d8354-c3f5-45ed-d946-5e7408118b1d",
        "colab": {
          "base_uri": "https://localhost:8080/"
        }
      },
      "source": [
        "#import data\n",
        "\n",
        "ufo_df = pd.read_csv ('https://raw.githubusercontent.com/st-reid/temp/main/UFO-1149.csv')\n",
        "\n",
        "ufo_df.info()"
      ],
      "execution_count": 5,
      "outputs": [
        {
          "output_type": "stream",
          "text": [
            "<class 'pandas.core.frame.DataFrame'>\n",
            "RangeIndex: 80332 entries, 0 to 80331\n",
            "Data columns (total 11 columns):\n",
            " #   Column                Non-Null Count  Dtype  \n",
            "---  ------                --------------  -----  \n",
            " 0   datetime              80332 non-null  object \n",
            " 1   city                  80332 non-null  object \n",
            " 2   state                 74535 non-null  object \n",
            " 3   country               70662 non-null  object \n",
            " 4   shape                 78400 non-null  object \n",
            " 5   duration (seconds)    80332 non-null  float64\n",
            " 6   duration (hours/min)  80332 non-null  object \n",
            " 7   comments              80318 non-null  object \n",
            " 8   date posted           80332 non-null  object \n",
            " 9   latitude              80332 non-null  float64\n",
            " 10  longitude             80332 non-null  float64\n",
            "dtypes: float64(3), object(8)\n",
            "memory usage: 6.7+ MB\n"
          ],
          "name": "stdout"
        }
      ]
    },
    {
      "cell_type": "code",
      "metadata": {
        "id": "oC5vXJ-GzD-p",
        "outputId": "c0289a81-31b5-4de1-e1b0-2e7cef032d2a",
        "colab": {
          "base_uri": "https://localhost:8080/",
          "height": 197
        }
      },
      "source": [
        "ufo_df.head()"
      ],
      "execution_count": 6,
      "outputs": [
        {
          "output_type": "execute_result",
          "data": {
            "text/html": [
              "<div>\n",
              "<style scoped>\n",
              "    .dataframe tbody tr th:only-of-type {\n",
              "        vertical-align: middle;\n",
              "    }\n",
              "\n",
              "    .dataframe tbody tr th {\n",
              "        vertical-align: top;\n",
              "    }\n",
              "\n",
              "    .dataframe thead th {\n",
              "        text-align: right;\n",
              "    }\n",
              "</style>\n",
              "<table border=\"1\" class=\"dataframe\">\n",
              "  <thead>\n",
              "    <tr style=\"text-align: right;\">\n",
              "      <th></th>\n",
              "      <th>datetime</th>\n",
              "      <th>city</th>\n",
              "      <th>state</th>\n",
              "      <th>country</th>\n",
              "      <th>shape</th>\n",
              "      <th>duration (seconds)</th>\n",
              "      <th>duration (hours/min)</th>\n",
              "      <th>comments</th>\n",
              "      <th>date posted</th>\n",
              "      <th>latitude</th>\n",
              "      <th>longitude</th>\n",
              "    </tr>\n",
              "  </thead>\n",
              "  <tbody>\n",
              "    <tr>\n",
              "      <th>0</th>\n",
              "      <td>10/10/1949 20:30</td>\n",
              "      <td>san marcos</td>\n",
              "      <td>tx</td>\n",
              "      <td>us</td>\n",
              "      <td>cylinder</td>\n",
              "      <td>2700.0</td>\n",
              "      <td>45 minutes</td>\n",
              "      <td>This event took place in early fall around 194...</td>\n",
              "      <td>4/27/2004</td>\n",
              "      <td>29.8831</td>\n",
              "      <td>-97.9411</td>\n",
              "    </tr>\n",
              "    <tr>\n",
              "      <th>1</th>\n",
              "      <td>10/10/1949 21:00</td>\n",
              "      <td>lackland afb</td>\n",
              "      <td>tx</td>\n",
              "      <td>NaN</td>\n",
              "      <td>light</td>\n",
              "      <td>7200.0</td>\n",
              "      <td>1-2 hrs</td>\n",
              "      <td>1949 Lackland AFB&amp;#44 TX.  Lights racing acros...</td>\n",
              "      <td>12/16/2005</td>\n",
              "      <td>29.3842</td>\n",
              "      <td>-98.5811</td>\n",
              "    </tr>\n",
              "    <tr>\n",
              "      <th>2</th>\n",
              "      <td>10/10/1955 17:00</td>\n",
              "      <td>chester (uk/england)</td>\n",
              "      <td>NaN</td>\n",
              "      <td>gb</td>\n",
              "      <td>circle</td>\n",
              "      <td>20.0</td>\n",
              "      <td>20 seconds</td>\n",
              "      <td>Green/Orange circular disc over Chester&amp;#44 En...</td>\n",
              "      <td>1/21/2008</td>\n",
              "      <td>53.2000</td>\n",
              "      <td>-2.9167</td>\n",
              "    </tr>\n",
              "    <tr>\n",
              "      <th>3</th>\n",
              "      <td>10/10/1956 21:00</td>\n",
              "      <td>edna</td>\n",
              "      <td>tx</td>\n",
              "      <td>us</td>\n",
              "      <td>circle</td>\n",
              "      <td>20.0</td>\n",
              "      <td>1/2 hour</td>\n",
              "      <td>My older brother and twin sister were leaving ...</td>\n",
              "      <td>1/17/2004</td>\n",
              "      <td>28.9783</td>\n",
              "      <td>-96.6458</td>\n",
              "    </tr>\n",
              "    <tr>\n",
              "      <th>4</th>\n",
              "      <td>10/10/1960 20:00</td>\n",
              "      <td>kaneohe</td>\n",
              "      <td>hi</td>\n",
              "      <td>us</td>\n",
              "      <td>light</td>\n",
              "      <td>900.0</td>\n",
              "      <td>15 minutes</td>\n",
              "      <td>AS a Marine 1st Lt. flying an FJ4B fighter/att...</td>\n",
              "      <td>1/22/2004</td>\n",
              "      <td>21.4181</td>\n",
              "      <td>-157.8036</td>\n",
              "    </tr>\n",
              "  </tbody>\n",
              "</table>\n",
              "</div>"
            ],
            "text/plain": [
              "           datetime                  city  ... latitude longitude\n",
              "0  10/10/1949 20:30            san marcos  ...  29.8831  -97.9411\n",
              "1  10/10/1949 21:00          lackland afb  ...  29.3842  -98.5811\n",
              "2  10/10/1955 17:00  chester (uk/england)  ...  53.2000   -2.9167\n",
              "3  10/10/1956 21:00                  edna  ...  28.9783  -96.6458\n",
              "4  10/10/1960 20:00               kaneohe  ...  21.4181 -157.8036\n",
              "\n",
              "[5 rows x 11 columns]"
            ]
          },
          "metadata": {
            "tags": []
          },
          "execution_count": 6
        }
      ]
    },
    {
      "cell_type": "code",
      "metadata": {
        "id": "QiZvn1nAtpLP",
        "outputId": "3c90b953-9fef-4e05-913f-907581616e20",
        "colab": {
          "base_uri": "https://localhost:8080/",
          "height": 197
        }
      },
      "source": [
        "#take out spaces from column names\n",
        "\n",
        "ufo_df1= ufo_df.copy()\n",
        "### format columns of train data\n",
        "\n",
        "ufo_df1.columns = [col.replace(' ','_') for col in ufo_df1]  \n",
        "\n",
        "ufo_df1.head()\n",
        "\n"
      ],
      "execution_count": 7,
      "outputs": [
        {
          "output_type": "execute_result",
          "data": {
            "text/html": [
              "<div>\n",
              "<style scoped>\n",
              "    .dataframe tbody tr th:only-of-type {\n",
              "        vertical-align: middle;\n",
              "    }\n",
              "\n",
              "    .dataframe tbody tr th {\n",
              "        vertical-align: top;\n",
              "    }\n",
              "\n",
              "    .dataframe thead th {\n",
              "        text-align: right;\n",
              "    }\n",
              "</style>\n",
              "<table border=\"1\" class=\"dataframe\">\n",
              "  <thead>\n",
              "    <tr style=\"text-align: right;\">\n",
              "      <th></th>\n",
              "      <th>datetime</th>\n",
              "      <th>city</th>\n",
              "      <th>state</th>\n",
              "      <th>country</th>\n",
              "      <th>shape</th>\n",
              "      <th>duration_(seconds)</th>\n",
              "      <th>duration_(hours/min)</th>\n",
              "      <th>comments</th>\n",
              "      <th>date_posted</th>\n",
              "      <th>latitude</th>\n",
              "      <th>longitude</th>\n",
              "    </tr>\n",
              "  </thead>\n",
              "  <tbody>\n",
              "    <tr>\n",
              "      <th>0</th>\n",
              "      <td>10/10/1949 20:30</td>\n",
              "      <td>san marcos</td>\n",
              "      <td>tx</td>\n",
              "      <td>us</td>\n",
              "      <td>cylinder</td>\n",
              "      <td>2700.0</td>\n",
              "      <td>45 minutes</td>\n",
              "      <td>This event took place in early fall around 194...</td>\n",
              "      <td>4/27/2004</td>\n",
              "      <td>29.8831</td>\n",
              "      <td>-97.9411</td>\n",
              "    </tr>\n",
              "    <tr>\n",
              "      <th>1</th>\n",
              "      <td>10/10/1949 21:00</td>\n",
              "      <td>lackland afb</td>\n",
              "      <td>tx</td>\n",
              "      <td>NaN</td>\n",
              "      <td>light</td>\n",
              "      <td>7200.0</td>\n",
              "      <td>1-2 hrs</td>\n",
              "      <td>1949 Lackland AFB&amp;#44 TX.  Lights racing acros...</td>\n",
              "      <td>12/16/2005</td>\n",
              "      <td>29.3842</td>\n",
              "      <td>-98.5811</td>\n",
              "    </tr>\n",
              "    <tr>\n",
              "      <th>2</th>\n",
              "      <td>10/10/1955 17:00</td>\n",
              "      <td>chester (uk/england)</td>\n",
              "      <td>NaN</td>\n",
              "      <td>gb</td>\n",
              "      <td>circle</td>\n",
              "      <td>20.0</td>\n",
              "      <td>20 seconds</td>\n",
              "      <td>Green/Orange circular disc over Chester&amp;#44 En...</td>\n",
              "      <td>1/21/2008</td>\n",
              "      <td>53.2000</td>\n",
              "      <td>-2.9167</td>\n",
              "    </tr>\n",
              "    <tr>\n",
              "      <th>3</th>\n",
              "      <td>10/10/1956 21:00</td>\n",
              "      <td>edna</td>\n",
              "      <td>tx</td>\n",
              "      <td>us</td>\n",
              "      <td>circle</td>\n",
              "      <td>20.0</td>\n",
              "      <td>1/2 hour</td>\n",
              "      <td>My older brother and twin sister were leaving ...</td>\n",
              "      <td>1/17/2004</td>\n",
              "      <td>28.9783</td>\n",
              "      <td>-96.6458</td>\n",
              "    </tr>\n",
              "    <tr>\n",
              "      <th>4</th>\n",
              "      <td>10/10/1960 20:00</td>\n",
              "      <td>kaneohe</td>\n",
              "      <td>hi</td>\n",
              "      <td>us</td>\n",
              "      <td>light</td>\n",
              "      <td>900.0</td>\n",
              "      <td>15 minutes</td>\n",
              "      <td>AS a Marine 1st Lt. flying an FJ4B fighter/att...</td>\n",
              "      <td>1/22/2004</td>\n",
              "      <td>21.4181</td>\n",
              "      <td>-157.8036</td>\n",
              "    </tr>\n",
              "  </tbody>\n",
              "</table>\n",
              "</div>"
            ],
            "text/plain": [
              "           datetime                  city  ... latitude longitude\n",
              "0  10/10/1949 20:30            san marcos  ...  29.8831  -97.9411\n",
              "1  10/10/1949 21:00          lackland afb  ...  29.3842  -98.5811\n",
              "2  10/10/1955 17:00  chester (uk/england)  ...  53.2000   -2.9167\n",
              "3  10/10/1956 21:00                  edna  ...  28.9783  -96.6458\n",
              "4  10/10/1960 20:00               kaneohe  ...  21.4181 -157.8036\n",
              "\n",
              "[5 rows x 11 columns]"
            ]
          },
          "metadata": {
            "tags": []
          },
          "execution_count": 7
        }
      ]
    },
    {
      "cell_type": "code",
      "metadata": {
        "id": "-5N92L4Ru7eH",
        "outputId": "0f823251-fb8b-49b3-a448-453dc79e507b",
        "colab": {
          "base_uri": "https://localhost:8080/",
          "height": 197
        }
      },
      "source": [
        "## format date columns to dates\n",
        "\n",
        "ufo_df1['datetime'] = ufo_df1['datetime'].str.replace('24:00', '0:00')\n",
        "ufo_df1['datetime']=ufo_df1['datetime'].astype('datetime64[ns]')\n",
        "\n",
        "ufo_df1['date_posted']=ufo_df1['date_posted'].astype('datetime64[ns]')\n",
        "\n",
        "ufo_df1.head()"
      ],
      "execution_count": 8,
      "outputs": [
        {
          "output_type": "execute_result",
          "data": {
            "text/html": [
              "<div>\n",
              "<style scoped>\n",
              "    .dataframe tbody tr th:only-of-type {\n",
              "        vertical-align: middle;\n",
              "    }\n",
              "\n",
              "    .dataframe tbody tr th {\n",
              "        vertical-align: top;\n",
              "    }\n",
              "\n",
              "    .dataframe thead th {\n",
              "        text-align: right;\n",
              "    }\n",
              "</style>\n",
              "<table border=\"1\" class=\"dataframe\">\n",
              "  <thead>\n",
              "    <tr style=\"text-align: right;\">\n",
              "      <th></th>\n",
              "      <th>datetime</th>\n",
              "      <th>city</th>\n",
              "      <th>state</th>\n",
              "      <th>country</th>\n",
              "      <th>shape</th>\n",
              "      <th>duration_(seconds)</th>\n",
              "      <th>duration_(hours/min)</th>\n",
              "      <th>comments</th>\n",
              "      <th>date_posted</th>\n",
              "      <th>latitude</th>\n",
              "      <th>longitude</th>\n",
              "    </tr>\n",
              "  </thead>\n",
              "  <tbody>\n",
              "    <tr>\n",
              "      <th>0</th>\n",
              "      <td>1949-10-10 20:30:00</td>\n",
              "      <td>san marcos</td>\n",
              "      <td>tx</td>\n",
              "      <td>us</td>\n",
              "      <td>cylinder</td>\n",
              "      <td>2700.0</td>\n",
              "      <td>45 minutes</td>\n",
              "      <td>This event took place in early fall around 194...</td>\n",
              "      <td>2004-04-27</td>\n",
              "      <td>29.8831</td>\n",
              "      <td>-97.9411</td>\n",
              "    </tr>\n",
              "    <tr>\n",
              "      <th>1</th>\n",
              "      <td>1949-10-10 21:00:00</td>\n",
              "      <td>lackland afb</td>\n",
              "      <td>tx</td>\n",
              "      <td>NaN</td>\n",
              "      <td>light</td>\n",
              "      <td>7200.0</td>\n",
              "      <td>1-2 hrs</td>\n",
              "      <td>1949 Lackland AFB&amp;#44 TX.  Lights racing acros...</td>\n",
              "      <td>2005-12-16</td>\n",
              "      <td>29.3842</td>\n",
              "      <td>-98.5811</td>\n",
              "    </tr>\n",
              "    <tr>\n",
              "      <th>2</th>\n",
              "      <td>1955-10-10 17:00:00</td>\n",
              "      <td>chester (uk/england)</td>\n",
              "      <td>NaN</td>\n",
              "      <td>gb</td>\n",
              "      <td>circle</td>\n",
              "      <td>20.0</td>\n",
              "      <td>20 seconds</td>\n",
              "      <td>Green/Orange circular disc over Chester&amp;#44 En...</td>\n",
              "      <td>2008-01-21</td>\n",
              "      <td>53.2000</td>\n",
              "      <td>-2.9167</td>\n",
              "    </tr>\n",
              "    <tr>\n",
              "      <th>3</th>\n",
              "      <td>1956-10-10 21:00:00</td>\n",
              "      <td>edna</td>\n",
              "      <td>tx</td>\n",
              "      <td>us</td>\n",
              "      <td>circle</td>\n",
              "      <td>20.0</td>\n",
              "      <td>1/2 hour</td>\n",
              "      <td>My older brother and twin sister were leaving ...</td>\n",
              "      <td>2004-01-17</td>\n",
              "      <td>28.9783</td>\n",
              "      <td>-96.6458</td>\n",
              "    </tr>\n",
              "    <tr>\n",
              "      <th>4</th>\n",
              "      <td>1960-10-10 20:00:00</td>\n",
              "      <td>kaneohe</td>\n",
              "      <td>hi</td>\n",
              "      <td>us</td>\n",
              "      <td>light</td>\n",
              "      <td>900.0</td>\n",
              "      <td>15 minutes</td>\n",
              "      <td>AS a Marine 1st Lt. flying an FJ4B fighter/att...</td>\n",
              "      <td>2004-01-22</td>\n",
              "      <td>21.4181</td>\n",
              "      <td>-157.8036</td>\n",
              "    </tr>\n",
              "  </tbody>\n",
              "</table>\n",
              "</div>"
            ],
            "text/plain": [
              "             datetime                  city  ... latitude longitude\n",
              "0 1949-10-10 20:30:00            san marcos  ...  29.8831  -97.9411\n",
              "1 1949-10-10 21:00:00          lackland afb  ...  29.3842  -98.5811\n",
              "2 1955-10-10 17:00:00  chester (uk/england)  ...  53.2000   -2.9167\n",
              "3 1956-10-10 21:00:00                  edna  ...  28.9783  -96.6458\n",
              "4 1960-10-10 20:00:00               kaneohe  ...  21.4181 -157.8036\n",
              "\n",
              "[5 rows x 11 columns]"
            ]
          },
          "metadata": {
            "tags": []
          },
          "execution_count": 8
        }
      ]
    },
    {
      "cell_type": "code",
      "metadata": {
        "id": "sDCYqKXfyMZX",
        "outputId": "59086531-7281-4623-f740-723ce77e0573",
        "colab": {
          "base_uri": "https://localhost:8080/",
          "height": 397
        }
      },
      "source": [
        "## check Nan values\n",
        "\n",
        "# plot missing data for the test dats:\n",
        "ufo_df1.isnull().sum().plot(kind='bar', color='blue')\n",
        "# Add a title and show the plot.\n",
        "plt.title('Number of Missing Values Per Column', fontsize=15)\n",
        "# Create tick mark labels on the Y axis and rotate them.\n",
        "plt.xticks(rotation = 90)\n",
        "# Create X axis label.\n",
        "plt.xlabel(\"Columns\", fontsize=15)\n",
        "# Create Y axis label.\n",
        "plt.ylabel(\"NaN Values\",fontsize=15 );\n"
      ],
      "execution_count": 10,
      "outputs": [
        {
          "output_type": "display_data",
          "data": {
            "image/png": "[encoded data removed]",
            "text/plain": [
              "<Figure size 432x288 with 1 Axes>"
            ]
          },
          "metadata": {
            "tags": [],
            "needs_background": "light"
          }
        }
      ]
    },
    {
      "cell_type": "code",
      "metadata": {
        "id": "hHnR2W76ygnq",
        "outputId": "3d389841-22ff-4e05-d0f0-129860e042ff",
        "colab": {
          "base_uri": "https://localhost:8080/",
          "height": 197
        }
      },
      "source": [
        "## replace missing value with blanks\n",
        "\n",
        "ufo_df2 = ufo_df1.copy()\n",
        "\n",
        "ufo_df2['state'] = ufo_df2['state'].fillna('')\n",
        "\n",
        "ufo_df2['country'] = ufo_df2['country'].fillna('')\n",
        "\n",
        "ufo_df2['shape'] = ufo_df2['shape'].fillna('')\n",
        "\n",
        "\n",
        "ufo_df2.head(5)"
      ],
      "execution_count": 9,
      "outputs": [
        {
          "output_type": "execute_result",
          "data": {
            "text/html": [
              "<div>\n",
              "<style scoped>\n",
              "    .dataframe tbody tr th:only-of-type {\n",
              "        vertical-align: middle;\n",
              "    }\n",
              "\n",
              "    .dataframe tbody tr th {\n",
              "        vertical-align: top;\n",
              "    }\n",
              "\n",
              "    .dataframe thead th {\n",
              "        text-align: right;\n",
              "    }\n",
              "</style>\n",
              "<table border=\"1\" class=\"dataframe\">\n",
              "  <thead>\n",
              "    <tr style=\"text-align: right;\">\n",
              "      <th></th>\n",
              "      <th>datetime</th>\n",
              "      <th>city</th>\n",
              "      <th>state</th>\n",
              "      <th>country</th>\n",
              "      <th>shape</th>\n",
              "      <th>duration_(seconds)</th>\n",
              "      <th>duration_(hours/min)</th>\n",
              "      <th>comments</th>\n",
              "      <th>date_posted</th>\n",
              "      <th>latitude</th>\n",
              "      <th>longitude</th>\n",
              "    </tr>\n",
              "  </thead>\n",
              "  <tbody>\n",
              "    <tr>\n",
              "      <th>0</th>\n",
              "      <td>1949-10-10 20:30:00</td>\n",
              "      <td>san marcos</td>\n",
              "      <td>tx</td>\n",
              "      <td>us</td>\n",
              "      <td>cylinder</td>\n",
              "      <td>2700.0</td>\n",
              "      <td>45 minutes</td>\n",
              "      <td>This event took place in early fall around 194...</td>\n",
              "      <td>2004-04-27</td>\n",
              "      <td>29.8831</td>\n",
              "      <td>-97.9411</td>\n",
              "    </tr>\n",
              "    <tr>\n",
              "      <th>1</th>\n",
              "      <td>1949-10-10 21:00:00</td>\n",
              "      <td>lackland afb</td>\n",
              "      <td>tx</td>\n",
              "      <td></td>\n",
              "      <td>light</td>\n",
              "      <td>7200.0</td>\n",
              "      <td>1-2 hrs</td>\n",
              "      <td>1949 Lackland AFB&amp;#44 TX.  Lights racing acros...</td>\n",
              "      <td>2005-12-16</td>\n",
              "      <td>29.3842</td>\n",
              "      <td>-98.5811</td>\n",
              "    </tr>\n",
              "    <tr>\n",
              "      <th>2</th>\n",
              "      <td>1955-10-10 17:00:00</td>\n",
              "      <td>chester (uk/england)</td>\n",
              "      <td></td>\n",
              "      <td>gb</td>\n",
              "      <td>circle</td>\n",
              "      <td>20.0</td>\n",
              "      <td>20 seconds</td>\n",
              "      <td>Green/Orange circular disc over Chester&amp;#44 En...</td>\n",
              "      <td>2008-01-21</td>\n",
              "      <td>53.2000</td>\n",
              "      <td>-2.9167</td>\n",
              "    </tr>\n",
              "    <tr>\n",
              "      <th>3</th>\n",
              "      <td>1956-10-10 21:00:00</td>\n",
              "      <td>edna</td>\n",
              "      <td>tx</td>\n",
              "      <td>us</td>\n",
              "      <td>circle</td>\n",
              "      <td>20.0</td>\n",
              "      <td>1/2 hour</td>\n",
              "      <td>My older brother and twin sister were leaving ...</td>\n",
              "      <td>2004-01-17</td>\n",
              "      <td>28.9783</td>\n",
              "      <td>-96.6458</td>\n",
              "    </tr>\n",
              "    <tr>\n",
              "      <th>4</th>\n",
              "      <td>1960-10-10 20:00:00</td>\n",
              "      <td>kaneohe</td>\n",
              "      <td>hi</td>\n",
              "      <td>us</td>\n",
              "      <td>light</td>\n",
              "      <td>900.0</td>\n",
              "      <td>15 minutes</td>\n",
              "      <td>AS a Marine 1st Lt. flying an FJ4B fighter/att...</td>\n",
              "      <td>2004-01-22</td>\n",
              "      <td>21.4181</td>\n",
              "      <td>-157.8036</td>\n",
              "    </tr>\n",
              "  </tbody>\n",
              "</table>\n",
              "</div>"
            ],
            "text/plain": [
              "             datetime                  city  ... latitude longitude\n",
              "0 1949-10-10 20:30:00            san marcos  ...  29.8831  -97.9411\n",
              "1 1949-10-10 21:00:00          lackland afb  ...  29.3842  -98.5811\n",
              "2 1955-10-10 17:00:00  chester (uk/england)  ...  53.2000   -2.9167\n",
              "3 1956-10-10 21:00:00                  edna  ...  28.9783  -96.6458\n",
              "4 1960-10-10 20:00:00               kaneohe  ...  21.4181 -157.8036\n",
              "\n",
              "[5 rows x 11 columns]"
            ]
          },
          "metadata": {
            "tags": []
          },
          "execution_count": 9
        }
      ]
    },
    {
      "cell_type": "code",
      "metadata": {
        "id": "UpdCwDfexk_x",
        "outputId": "473c9d94-2e8c-44f0-c1fd-475619cf90e8",
        "colab": {
          "base_uri": "https://localhost:8080/",
          "height": 370
        }
      },
      "source": [
        "## find the countries represented\n",
        "\n",
        "counts = ufo_df1['country'].value_counts()\n",
        "\n",
        "total = len(ufo_df1['country'])\n",
        "\n",
        "frequency = counts/total*100\n",
        "\n",
        "frequency.plot(kind = 'bar',color=(0.2, 0.4, 0.6, 0.6))\n",
        "\n",
        "print(frequency)"
      ],
      "execution_count": 20,
      "outputs": [
        {
          "output_type": "stream",
          "text": [
            "us    81.056117\n",
            "ca     3.734502\n",
            "gb     2.371409\n",
            "au     0.669721\n",
            "de     0.130708\n",
            "Name: country, dtype: float64\n"
          ],
          "name": "stdout"
        },
        {
          "output_type": "display_data",
          "data": {
            "image/png": "[encoded data removed]",
            "text/plain": [
              "<Figure size 432x288 with 1 Axes>"
            ]
          },
          "metadata": {
            "tags": [],
            "needs_background": "light"
          }
        }
      ]
    },
    {
      "cell_type": "markdown",
      "metadata": {
        "id": "p2NJRmREzD-s"
      },
      "source": [
        "### Calculate the number of clusters for Kmeans"
      ]
    },
    {
      "cell_type": "code",
      "metadata": {
        "id": "X6HJwAL90KyI",
        "outputId": "179b5cc6-6b83-4874-e8ed-9a54484984d7",
        "colab": {
          "base_uri": "https://localhost:8080/",
          "height": 197
        }
      },
      "source": [
        "## use the co-ords only\n",
        "cols = ['datetime','city','state','country','shape','duration_(seconds)','duration_(hours/min)','comments','date_posted']\n",
        "\n",
        "ufo_cords = ufo_df2.drop(cols, inplace=False, axis=1)\n",
        "\n",
        "ufo_cords.head(5)"
      ],
      "execution_count": 11,
      "outputs": [
        {
          "output_type": "execute_result",
          "data": {
            "text/html": [
              "<div>\n",
              "<style scoped>\n",
              "    .dataframe tbody tr th:only-of-type {\n",
              "        vertical-align: middle;\n",
              "    }\n",
              "\n",
              "    .dataframe tbody tr th {\n",
              "        vertical-align: top;\n",
              "    }\n",
              "\n",
              "    .dataframe thead th {\n",
              "        text-align: right;\n",
              "    }\n",
              "</style>\n",
              "<table border=\"1\" class=\"dataframe\">\n",
              "  <thead>\n",
              "    <tr style=\"text-align: right;\">\n",
              "      <th></th>\n",
              "      <th>latitude</th>\n",
              "      <th>longitude</th>\n",
              "    </tr>\n",
              "  </thead>\n",
              "  <tbody>\n",
              "    <tr>\n",
              "      <th>0</th>\n",
              "      <td>29.8831</td>\n",
              "      <td>-97.9411</td>\n",
              "    </tr>\n",
              "    <tr>\n",
              "      <th>1</th>\n",
              "      <td>29.3842</td>\n",
              "      <td>-98.5811</td>\n",
              "    </tr>\n",
              "    <tr>\n",
              "      <th>2</th>\n",
              "      <td>53.2000</td>\n",
              "      <td>-2.9167</td>\n",
              "    </tr>\n",
              "    <tr>\n",
              "      <th>3</th>\n",
              "      <td>28.9783</td>\n",
              "      <td>-96.6458</td>\n",
              "    </tr>\n",
              "    <tr>\n",
              "      <th>4</th>\n",
              "      <td>21.4181</td>\n",
              "      <td>-157.8036</td>\n",
              "    </tr>\n",
              "  </tbody>\n",
              "</table>\n",
              "</div>"
            ],
            "text/plain": [
              "   latitude  longitude\n",
              "0   29.8831   -97.9411\n",
              "1   29.3842   -98.5811\n",
              "2   53.2000    -2.9167\n",
              "3   28.9783   -96.6458\n",
              "4   21.4181  -157.8036"
            ]
          },
          "metadata": {
            "tags": []
          },
          "execution_count": 11
        }
      ]
    },
    {
      "cell_type": "code",
      "metadata": {
        "id": "Eop8ffoT1_BU",
        "outputId": "64e78669-2434-494d-f8cb-97eef836b922",
        "colab": {
          "base_uri": "https://localhost:8080/",
          "height": 499
        }
      },
      "source": [
        "plt.figure(dpi=120)\n",
        "x1 = ufo_cords['longitude']\n",
        "x2 = ufo_cords['latitude']\n",
        "plt.scatter(x1, x2)\n",
        "plt.title(\"Co-ords\")\n",
        "plt.xlabel('Longitude')\n",
        "plt.ylabel('Latitude')"
      ],
      "execution_count": 24,
      "outputs": [
        {
          "output_type": "execute_result",
          "data": {
            "text/plain": [
              "Text(0, 0.5, 'Latitude')"
            ]
          },
          "metadata": {
            "tags": []
          },
          "execution_count": 24
        },
        {
          "output_type": "display_data",
          "data": {
            "image/png": "[encoded data removed]",
            "text/plain": [
              "<Figure size 720x480 with 1 Axes>"
            ]
          },
          "metadata": {
            "tags": [],
            "needs_background": "light"
          }
        }
      ]
    },
    {
      "cell_type": "code",
      "metadata": {
        "id": "JZ85qawVzD-t"
      },
      "source": [
        "# create scaler object\n",
        "scaler = StandardScaler()\n",
        "\n",
        "# scale the data\n",
        "X_scaled = scaler.fit_transform(ufo_cords)"
      ],
      "execution_count": 12,
      "outputs": []
    },
    {
      "cell_type": "code",
      "metadata": {
        "id": "_0u4oyy7Gfb0",
        "outputId": "e0b5c837-c65e-4d97-ae80-f7212186c5dd",
        "colab": {
          "base_uri": "https://localhost:8080/"
        }
      },
      "source": [
        "print(X_scaled)"
      ],
      "execution_count": 13,
      "outputs": [
        {
          "output_type": "stream",
          "text": [
            "[[-0.78717219 -0.28133682]\n",
            " [-0.8348248  -0.29745896]\n",
            " [ 1.43994982  2.11240837]\n",
            " ...\n",
            " [ 0.01650357 -0.89456519]\n",
            " [ 0.07418529  0.23949655]\n",
            " [-0.23607724 -0.2696659 ]]\n"
          ],
          "name": "stdout"
        }
      ]
    },
    {
      "cell_type": "code",
      "metadata": {
        "id": "qVCxZIkV3ADA"
      },
      "source": [
        "K=4"
      ],
      "execution_count": 26,
      "outputs": []
    },
    {
      "cell_type": "code",
      "metadata": {
        "id": "Ksx06lbs25mc"
      },
      "source": [
        "# Import KMeans model\n",
        "from sklearn.cluster import KMeans\n",
        "# Import time to measure algorithm runtime \n",
        "from time import time"
      ],
      "execution_count": 27,
      "outputs": []
    },
    {
      "cell_type": "code",
      "metadata": {
        "id": "yswEKdwVzD-v"
      },
      "source": [
        "## model and fit\n",
        "\n",
        "#km = KMeans(n_clusters=K, random_state=42)\n",
        "#km.fit(X_scaled)\n"
      ],
      "execution_count": null,
      "outputs": []
    },
    {
      "cell_type": "code",
      "metadata": {
        "id": "M__2f8A13IE_"
      },
      "source": [
        "# Manually implement the WCSS\n",
        "def within_cluster_variation(df, label_col='label'):\n",
        "    centroids = df.groupby(label_col).mean()\n",
        "    out = 0\n",
        "    for label, point in centroids.iterrows():\n",
        "        df_features = df[df[label_col] == label].drop(label_col, axis=1)\n",
        "        out += (df_features - point).pow(2).sum(axis=1).sum()\n",
        "    return out"
      ],
      "execution_count": 29,
      "outputs": []
    },
    {
      "cell_type": "code",
      "metadata": {
        "id": "aa5VSdrH3Xoz"
      },
      "source": [
        "# let's try everything between 2 and 10 clusters\n",
        "n_clusters = np.arange(2, 10)\n",
        "\n",
        "# store errors for each value of k\n",
        "errors = []\n",
        "\n",
        "# for i between 2 and 20\n",
        "for k in n_clusters:\n",
        "    # perform k-means clustering\n",
        "    km = KMeans(n_clusters=k, n_init=10, max_iter=300, random_state=42)\n",
        "    km.fit(X_scaled)\n",
        "\n",
        "    # measure BCSS\n",
        "\n",
        "    y_preds = km.predict(X_scaled)\n",
        "    ufo_cords['cluster_label'] = y_preds\n",
        "    errors.append(within_cluster_variation(ufo_cords,'cluster_label'))"
      ],
      "execution_count": 33,
      "outputs": []
    },
    {
      "cell_type": "code",
      "metadata": {
        "id": "bYokGZ6r6hqP",
        "outputId": "9e3fc168-20f4-46a1-a23c-5b9e6d1c1325",
        "colab": {
          "base_uri": "https://localhost:8080/",
          "height": 513
        }
      },
      "source": [
        "plt.figure(figsize=(12,8))\n",
        "plt.xlabel('Number of Clusters (k)')\n",
        "plt.ylabel('Within-Cluster Sum of Squares (WCSS)')\n",
        "plt.title('Elbow Method for Determining Optimal Value of k')\n",
        "plt.scatter(n_clusters, errors)\n",
        "plt.plot(n_clusters, errors)\n",
        "plt.xticks(n_clusters)\n",
        "plt.show()"
      ],
      "execution_count": 34,
      "outputs": [
        {
          "output_type": "display_data",
          "data": {
            "image/png": "[encoded data removed]",
            "text/plain": [
              "<Figure size 864x576 with 1 Axes>"
            ]
          },
          "metadata": {
            "tags": [],
            "needs_background": "light"
          }
        }
      ]
    },
    {
      "cell_type": "code",
      "metadata": {
        "id": "h2Z-ZNdj7Pqj"
      },
      "source": [
        "# Between cluster variation\n",
        "def between_cluster_variation(df, label_col='label'):\n",
        "    centroids = df.groupby(label_col).mean()\n",
        "    global_mean = df.drop(label_col, axis=1).mean()\n",
        "    centroid_count = df.groupby(label_col).size()\n",
        "    centroid_to_mean_dist = (centroids - global_mean).pow(2).sum(axis=1)\n",
        "    return (centroid_count*centroid_to_mean_dist).sum()"
      ],
      "execution_count": 35,
      "outputs": []
    },
    {
      "cell_type": "code",
      "metadata": {
        "id": "UUGfTQ6n7QZA"
      },
      "source": [
        "# let's try everything between 2 and 15 clusters\n",
        "n_clusters = np.arange(2, 15)\n",
        "\n",
        "# store errors for each value of k\n",
        "errors = []\n",
        "\n",
        "# for i between 2 and 15\n",
        "for k in n_clusters:\n",
        "    # perform k-means clustering\n",
        "    km = KMeans(n_clusters=k, n_init=10, max_iter=300, random_state=42)\n",
        "    km.fit(X_scaled)\n",
        "    \n",
        "    # measure BCSS\n",
        "\n",
        "    y_preds = km.predict(X_scaled)\n",
        "    ufo_cords['cluster_label'] = y_preds\n",
        "    errors.append(between_cluster_variation(ufo_cords,'cluster_label'))"
      ],
      "execution_count": 36,
      "outputs": []
    },
    {
      "cell_type": "code",
      "metadata": {
        "id": "H3NKtevc7Tyc",
        "outputId": "e6b28617-1dec-4702-8662-f3e61742679e",
        "colab": {
          "base_uri": "https://localhost:8080/",
          "height": 513
        }
      },
      "source": [
        "plt.figure(figsize=(12,8))\n",
        "plt.xlabel('Number of Clusters (k)')\n",
        "plt.ylabel('Between-Cluster Sum of Squares (WCSS)')\n",
        "plt.title('Elbow Method for Determining Optimal Value of k')\n",
        "plt.scatter(n_clusters, errors)\n",
        "plt.plot(n_clusters, errors)\n",
        "plt.xticks(n_clusters)\n",
        "plt.show()"
      ],
      "execution_count": 37,
      "outputs": [
        {
          "output_type": "display_data",
          "data": {
            "image/png": "[encoded data removed]",
            "text/plain": [
              "<Figure size 864x576 with 1 Axes>"
            ]
          },
          "metadata": {
            "tags": [],
            "needs_background": "light"
          }
        }
      ]
    },
    {
      "cell_type": "code",
      "metadata": {
        "id": "jWG7k9_h80yr",
        "outputId": "e7be859d-4364-40d9-8f2a-5fe196e01b23",
        "colab": {
          "base_uri": "https://localhost:8080/"
        }
      },
      "source": [
        "## model the clusters\n",
        "\n",
        "K = 5\n",
        "# remember to set the random state for reproducibility\n",
        "km = KMeans(n_clusters=K, verbose=0, random_state=42)\n",
        "print(\"Clustering sparse data with %s\" % km)\n",
        "t0 = time()\n",
        "km.fit(X_scaled)\n",
        "print(\"done in %0.3fs\" % (time() - t0))"
      ],
      "execution_count": 51,
      "outputs": [
        {
          "output_type": "stream",
          "text": [
            "Clustering sparse data with KMeans(algorithm='auto', copy_x=True, init='k-means++', max_iter=300,\n",
            "       n_clusters=5, n_init=10, n_jobs=None, precompute_distances='auto',\n",
            "       random_state=42, tol=0.0001, verbose=0)\n",
            "done in 1.001s\n"
          ],
          "name": "stdout"
        }
      ]
    },
    {
      "cell_type": "code",
      "metadata": {
        "id": "pJXAG5dI9D4N"
      },
      "source": [
        "# obtain cluster memberships for each item in the data\n",
        "y_preds = km.predict(X_scaled)\n",
        "ufo_cords['cluster_label'] = y_preds\n",
        "centers = scaler.inverse_transform(km.cluster_centers_)"
      ],
      "execution_count": 52,
      "outputs": []
    },
    {
      "cell_type": "code",
      "metadata": {
        "id": "JZHZamG89Fpm",
        "outputId": "a0e332a3-1756-4b66-9481-0bc409ef97db",
        "colab": {
          "base_uri": "https://localhost:8080/",
          "height": 499
        }
      },
      "source": [
        "# visualise the clusters\n",
        "plt.figure(dpi=120)\n",
        "for k in range(K):\n",
        "    x1 = ufo_cords[ufo_cords['cluster_label'] == k]['longitude']\n",
        "    x2 = ufo_cords[ufo_cords['cluster_label'] == k]['latitude']\n",
        "    plt.scatter(x1, x2, label=\"k = \"+str(k+1))\n",
        "    \n",
        "# show cluster centroid locations\n",
        "plt.scatter(centers[:,0],centers[:,1],label=\"centroid\")\n",
        "\n",
        "\n",
        "plt.legend()\n",
        "plt.title(\"K = 5\")\n",
        "plt.xlabel('Feature 1')\n",
        "plt.ylabel('Feature 2')"
      ],
      "execution_count": 53,
      "outputs": [
        {
          "output_type": "execute_result",
          "data": {
            "text/plain": [
              "Text(0, 0.5, 'Feature 2')"
            ]
          },
          "metadata": {
            "tags": []
          },
          "execution_count": 53
        },
        {
          "output_type": "display_data",
          "data": {
            "image/png": "[encoded data removed]",
            "text/plain": [
              "<Figure size 720x480 with 1 Axes>"
            ]
          },
          "metadata": {
            "tags": [],
            "needs_background": "light"
          }
        }
      ]
    },
    {
      "cell_type": "code",
      "metadata": {
        "id": "m76FnNwL-6vK",
        "outputId": "a7b5db6a-b991-49bc-ef82-6e9ab6f6d015",
        "colab": {
          "base_uri": "https://localhost:8080/",
          "height": 197
        }
      },
      "source": [
        "ufo_cords.head()"
      ],
      "execution_count": 54,
      "outputs": [
        {
          "output_type": "execute_result",
          "data": {
            "text/html": [
              "<div>\n",
              "<style scoped>\n",
              "    .dataframe tbody tr th:only-of-type {\n",
              "        vertical-align: middle;\n",
              "    }\n",
              "\n",
              "    .dataframe tbody tr th {\n",
              "        vertical-align: top;\n",
              "    }\n",
              "\n",
              "    .dataframe thead th {\n",
              "        text-align: right;\n",
              "    }\n",
              "</style>\n",
              "<table border=\"1\" class=\"dataframe\">\n",
              "  <thead>\n",
              "    <tr style=\"text-align: right;\">\n",
              "      <th></th>\n",
              "      <th>latitude</th>\n",
              "      <th>longitude</th>\n",
              "      <th>cluster_label</th>\n",
              "    </tr>\n",
              "  </thead>\n",
              "  <tbody>\n",
              "    <tr>\n",
              "      <th>0</th>\n",
              "      <td>29.8831</td>\n",
              "      <td>-97.9411</td>\n",
              "      <td>4</td>\n",
              "    </tr>\n",
              "    <tr>\n",
              "      <th>1</th>\n",
              "      <td>29.3842</td>\n",
              "      <td>-98.5811</td>\n",
              "      <td>4</td>\n",
              "    </tr>\n",
              "    <tr>\n",
              "      <th>2</th>\n",
              "      <td>53.2000</td>\n",
              "      <td>-2.9167</td>\n",
              "      <td>3</td>\n",
              "    </tr>\n",
              "    <tr>\n",
              "      <th>3</th>\n",
              "      <td>28.9783</td>\n",
              "      <td>-96.6458</td>\n",
              "      <td>4</td>\n",
              "    </tr>\n",
              "    <tr>\n",
              "      <th>4</th>\n",
              "      <td>21.4181</td>\n",
              "      <td>-157.8036</td>\n",
              "      <td>4</td>\n",
              "    </tr>\n",
              "  </tbody>\n",
              "</table>\n",
              "</div>"
            ],
            "text/plain": [
              "   latitude  longitude  cluster_label\n",
              "0   29.8831   -97.9411              4\n",
              "1   29.3842   -98.5811              4\n",
              "2   53.2000    -2.9167              3\n",
              "3   28.9783   -96.6458              4\n",
              "4   21.4181  -157.8036              4"
            ]
          },
          "metadata": {
            "tags": []
          },
          "execution_count": 54
        }
      ]
    },
    {
      "cell_type": "code",
      "metadata": {
        "id": "Q08ViOQT-ulp",
        "outputId": "7559ada4-da80-41d0-e2bf-a3bdabc589a7",
        "colab": {
          "base_uri": "https://localhost:8080/",
          "height": 107
        }
      },
      "source": [
        "ufo_cords.groupby('cluster_label').agg('median').T"
      ],
      "execution_count": 55,
      "outputs": [
        {
          "output_type": "execute_result",
          "data": {
            "text/html": [
              "<div>\n",
              "<style scoped>\n",
              "    .dataframe tbody tr th:only-of-type {\n",
              "        vertical-align: middle;\n",
              "    }\n",
              "\n",
              "    .dataframe tbody tr th {\n",
              "        vertical-align: top;\n",
              "    }\n",
              "\n",
              "    .dataframe thead th {\n",
              "        text-align: right;\n",
              "    }\n",
              "</style>\n",
              "<table border=\"1\" class=\"dataframe\">\n",
              "  <thead>\n",
              "    <tr style=\"text-align: right;\">\n",
              "      <th>cluster_label</th>\n",
              "      <th>0</th>\n",
              "      <th>1</th>\n",
              "      <th>2</th>\n",
              "      <th>3</th>\n",
              "      <th>4</th>\n",
              "    </tr>\n",
              "  </thead>\n",
              "  <tbody>\n",
              "    <tr>\n",
              "      <th>latitude</th>\n",
              "      <td>45.2944</td>\n",
              "      <td>41.1306</td>\n",
              "      <td>-29.8587</td>\n",
              "      <td>51.6333</td>\n",
              "      <td>33.4269</td>\n",
              "    </tr>\n",
              "    <tr>\n",
              "      <th>longitude</th>\n",
              "      <td>-121.8939</td>\n",
              "      <td>-80.6069</td>\n",
              "      <td>133.7751</td>\n",
              "      <td>-0.3500</td>\n",
              "      <td>-97.3961</td>\n",
              "    </tr>\n",
              "  </tbody>\n",
              "</table>\n",
              "</div>"
            ],
            "text/plain": [
              "cluster_label         0        1         2        3        4\n",
              "latitude        45.2944  41.1306  -29.8587  51.6333  33.4269\n",
              "longitude     -121.8939 -80.6069  133.7751  -0.3500 -97.3961"
            ]
          },
          "metadata": {
            "tags": []
          },
          "execution_count": 55
        }
      ]
    },
    {
      "cell_type": "code",
      "metadata": {
        "id": "WHPNQBTH-3YM"
      },
      "source": [
        "km.labels_[:100]"
      ],
      "execution_count": null,
      "outputs": []
    },
    {
      "cell_type": "code",
      "metadata": {
        "id": "EXwB9TG0-5gs",
        "outputId": "32701de6-e3e9-4aec-dd80-15a597ff5588",
        "colab": {
          "base_uri": "https://localhost:8080/",
          "height": 400
        }
      },
      "source": [
        "ufo_cords.groupby(\n",
        "    'cluster_label').count().reset_index().plot(kind='bar', \n",
        "                                              x='cluster_label', \n",
        "                                              figsize=(12,6), \n",
        "                                              title='Number of data points per Cluster')\n",
        "plt.xlabel(\"Clusters\")\n",
        "plt.ylabel(\"# of data points\")\n",
        "plt.show()"
      ],
      "execution_count": 57,
      "outputs": [
        {
          "output_type": "display_data",
          "data": {
            "image/png": "[encoded data removed]",
            "text/plain": [
              "<Figure size 864x432 with 1 Axes>"
            ]
          },
          "metadata": {
            "tags": [],
            "needs_background": "light"
          }
        }
      ]
    },
    {
      "cell_type": "code",
      "metadata": {
        "id": "4__TZFLw_aaP",
        "outputId": "f36159b9-88ca-4295-e7a0-8e801d17a7bc",
        "colab": {
          "base_uri": "https://localhost:8080/",
          "height": 364
        }
      },
      "source": [
        "counts = ufo_cords['cluster_label'].value_counts()\n",
        "\n",
        "total = len(ufo_cords['cluster_label'])\n",
        "\n",
        "frequency = counts/total*100\n",
        "\n",
        "frequency.plot(kind = 'bar',color=(0.2, 0.4, 0.6, 0.6))\n",
        "\n",
        "print(frequency)\n"
      ],
      "execution_count": 59,
      "outputs": [
        {
          "output_type": "stream",
          "text": [
            "1    42.394065\n",
            "4    31.892646\n",
            "0    19.103222\n",
            "3     4.984315\n",
            "2     1.625753\n",
            "Name: cluster_label, dtype: float64\n"
          ],
          "name": "stdout"
        },
        {
          "output_type": "display_data",
          "data": {
            "image/png": "[encoded data removed]",
            "text/plain": [
              "<Figure size 432x288 with 1 Axes>"
            ]
          },
          "metadata": {
            "tags": [],
            "needs_background": "light"
          }
        }
      ]
    },
    {
      "cell_type": "code",
      "metadata": {
        "id": "tGBPmUhHAjDl"
      },
      "source": [
        "#world = gpd.read_file('https://raw.githubusercontent.com/st-reid/temp/main/worldmap.json')"
      ],
      "execution_count": 62,
      "outputs": []
    },
    {
      "cell_type": "code",
      "metadata": {
        "id": "jwXE5gxhAkcq"
      },
      "source": [
        "## plot a dendogram\n",
        "\n",
        "from scipy.cluster.hierarchy import ward, dendrogram\n",
        "import scipy.cluster.hierarchy as sch"
      ],
      "execution_count": 2,
      "outputs": []
    },
    {
      "cell_type": "code",
      "metadata": {
        "id": "NONUxXNUHApp"
      },
      "source": [
        "#select first 100 rows\n",
        "\n",
        "ufo_100 = ufo_cords.head(100)\n",
        "\n",
        "\n"
      ],
      "execution_count": 14,
      "outputs": []
    },
    {
      "cell_type": "code",
      "metadata": {
        "id": "mNX4xD3PHKUN",
        "outputId": "c856a339-a8af-4165-9fe5-16afa17195bc",
        "colab": {
          "base_uri": "https://localhost:8080/"
        }
      },
      "source": [
        "ufo_100.info()"
      ],
      "execution_count": 15,
      "outputs": [
        {
          "output_type": "stream",
          "text": [
            "<class 'pandas.core.frame.DataFrame'>\n",
            "RangeIndex: 100 entries, 0 to 99\n",
            "Data columns (total 2 columns):\n",
            " #   Column     Non-Null Count  Dtype  \n",
            "---  ------     --------------  -----  \n",
            " 0   latitude   100 non-null    float64\n",
            " 1   longitude  100 non-null    float64\n",
            "dtypes: float64(2)\n",
            "memory usage: 1.7 KB\n"
          ],
          "name": "stdout"
        }
      ]
    },
    {
      "cell_type": "code",
      "metadata": {
        "id": "HMP2HKEuFS0I"
      },
      "source": [
        "# create scaler object\n",
        "scaler = StandardScaler()\n",
        "\n",
        "# scale the data\n",
        "X_scaled = scaler.fit_transform(ufo_100)"
      ],
      "execution_count": 16,
      "outputs": []
    },
    {
      "cell_type": "code",
      "metadata": {
        "id": "hspb9AaFGFxS"
      },
      "source": [
        "#"
      ],
      "execution_count": 19,
      "outputs": []
    },
    {
      "cell_type": "code",
      "metadata": {
        "id": "E4b8sTerESjR"
      },
      "source": [
        "linkage_matrix = sch.linkage(X_scaled, method='average', metric='euclidean')"
      ],
      "execution_count": 20,
      "outputs": []
    },
    {
      "cell_type": "code",
      "metadata": {
        "id": "Pv237wMqFDYi",
        "outputId": "de5dee60-801b-4bec-bbf2-750e9de67801",
        "colab": {
          "base_uri": "https://localhost:8080/",
          "height": 401
        }
      },
      "source": [
        "# Generate and plot dendrogram\n",
        "plt.figure(figsize=(10,6))\n",
        "dendrogram = sch.dendrogram(linkage_matrix)#, no_plot=True) # no_plot because we want to plot manually\n",
        "\n",
        "# The linkage matrix also contains the disimilarity measures associated with each merge we've done\n",
        "# We can use these to plot a few horizontal lines on the dendrogram\n",
        "# that can help us find the right number of clusters better\n",
        "z = linkage_matrix[:,2]\n",
        "\n",
        "for i in range(1,16):\n",
        "    rng = [z[-i],z[-i]]\n",
        "    dom = [0,40000]\n",
        "    plt.plot(dom,rng,'black', alpha=0.3)\n",
        "\n",
        "plt.title('Dendrogram')\n",
        "plt.xlabel('Datapoints')\n",
        "plt.ylabel('Dissimilarity')\n",
        "\n",
        "plt.show()"
      ],
      "execution_count": 21,
      "outputs": [
        {
          "output_type": "display_data",
          "data": {
            "image/png": "[encoded data removed]",
            "text/plain": [
              "<Figure size 720x432 with 1 Axes>"
            ]
          },
          "metadata": {
            "tags": [],
            "needs_background": "light"
          }
        }
      ]
    }
  ]
}