{
  "nbformat": 4,
  "nbformat_minor": 0,
  "metadata": {
    "kernelspec": {
      "display_name": "Python 3",
      "language": "python",
      "name": "python3"
    },
    "language_info": {
      "codemirror_mode": {
        "name": "ipython",
        "version": 3
      },
      "file_extension": ".py",
      "mimetype": "text/x-python",
      "name": "python",
      "nbconvert_exporter": "python",
      "pygments_lexer": "ipython3",
      "version": "3.7.6"
    },
    "colab": {
      "name": "Unsupervised_exam.ipynb",
      "provenance": [],
      "collapsed_sections": [],
      "toc_visible": true,
      "include_colab_link": true
    }
  },
  "cells": [
    {
      "cell_type": "markdown",
      "metadata": {
        "id": "view-in-github",
        "colab_type": "text"
      },
      "source": [
        "<a href=\"https://colab.research.google.com/github/st-reid/temp/blob/main/Unsupervised_exam.ipynb\" target=\"_parent\"><img src=\"https://colab.research.google.com/assets/colab-badge.svg\" alt=\"Open In Colab\"/></a>"
      ]
    },
    {
      "cell_type": "markdown",
      "metadata": {
        "id": "Xa3cf2XAzD-g"
      },
      "source": [
        "Import packages"
      ]
    },
    {
      "cell_type": "code",
      "metadata": {
        "id": "-N5zemSpzOL3",
        "colab": {
          "base_uri": "https://localhost:8080/"
        },
        "outputId": "25fca317-f888-4789-f0d1-97396a5304bc"
      },
      "source": [
        "!pip install geopandas\n",
        "!pip install mpld3"
      ],
      "execution_count": 1,
      "outputs": [
        {
          "output_type": "stream",
          "text": [
            "Requirement already satisfied: geopandas in /usr/local/lib/python3.6/dist-packages (0.8.1)\n",
            "Requirement already satisfied: pyproj>=2.2.0 in /usr/local/lib/python3.6/dist-packages (from geopandas) (3.0.0.post1)\n",
            "Requirement already satisfied: fiona in /usr/local/lib/python3.6/dist-packages (from geopandas) (1.8.18)\n",
            "Requirement already satisfied: pandas>=0.23.0 in /usr/local/lib/python3.6/dist-packages (from geopandas) (1.1.4)\n",
            "Requirement already satisfied: shapely in /usr/local/lib/python3.6/dist-packages (from geopandas) (1.7.1)\n",
            "Requirement already satisfied: certifi in /usr/local/lib/python3.6/dist-packages (from pyproj>=2.2.0->geopandas) (2020.6.20)\n",
            "Requirement already satisfied: attrs>=17 in /usr/local/lib/python3.6/dist-packages (from fiona->geopandas) (20.2.0)\n",
            "Requirement already satisfied: click<8,>=4.0 in /usr/local/lib/python3.6/dist-packages (from fiona->geopandas) (7.1.2)\n",
            "Requirement already satisfied: munch in /usr/local/lib/python3.6/dist-packages (from fiona->geopandas) (2.5.0)\n",
            "Requirement already satisfied: cligj>=0.5 in /usr/local/lib/python3.6/dist-packages (from fiona->geopandas) (0.7.0)\n",
            "Requirement already satisfied: six>=1.7 in /usr/local/lib/python3.6/dist-packages (from fiona->geopandas) (1.15.0)\n",
            "Requirement already satisfied: click-plugins>=1.0 in /usr/local/lib/python3.6/dist-packages (from fiona->geopandas) (1.1.1)\n",
            "Requirement already satisfied: pytz>=2017.2 in /usr/local/lib/python3.6/dist-packages (from pandas>=0.23.0->geopandas) (2018.9)\n",
            "Requirement already satisfied: python-dateutil>=2.7.3 in /usr/local/lib/python3.6/dist-packages (from pandas>=0.23.0->geopandas) (2.8.1)\n",
            "Requirement already satisfied: numpy>=1.15.4 in /usr/local/lib/python3.6/dist-packages (from pandas>=0.23.0->geopandas) (1.18.5)\n",
            "Requirement already satisfied: mpld3 in /usr/local/lib/python3.6/dist-packages (0.5.1)\n",
            "Requirement already satisfied: jinja2 in /usr/local/lib/python3.6/dist-packages (from mpld3) (2.11.2)\n",
            "Requirement already satisfied: matplotlib in /usr/local/lib/python3.6/dist-packages (from mpld3) (3.2.2)\n",
            "Requirement already satisfied: MarkupSafe>=0.23 in /usr/local/lib/python3.6/dist-packages (from jinja2->mpld3) (1.1.1)\n",
            "Requirement already satisfied: pyparsing!=2.0.4,!=2.1.2,!=2.1.6,>=2.0.1 in /usr/local/lib/python3.6/dist-packages (from matplotlib->mpld3) (2.4.7)\n",
            "Requirement already satisfied: cycler>=0.10 in /usr/local/lib/python3.6/dist-packages (from matplotlib->mpld3) (0.10.0)\n",
            "Requirement already satisfied: python-dateutil>=2.1 in /usr/local/lib/python3.6/dist-packages (from matplotlib->mpld3) (2.8.1)\n",
            "Requirement already satisfied: numpy>=1.11 in /usr/local/lib/python3.6/dist-packages (from matplotlib->mpld3) (1.18.5)\n",
            "Requirement already satisfied: kiwisolver>=1.0.1 in /usr/local/lib/python3.6/dist-packages (from matplotlib->mpld3) (1.3.1)\n",
            "Requirement already satisfied: six in /usr/local/lib/python3.6/dist-packages (from cycler>=0.10->matplotlib->mpld3) (1.15.0)\n"
          ],
          "name": "stdout"
        }
      ]
    },
    {
      "cell_type": "code",
      "metadata": {
        "id": "tj5XDEbezD-h"
      },
      "source": [
        "#import packages\n",
        "import numpy as np\n",
        "import pandas as pd\n",
        "import geopandas as gpd\n",
        "import datetime\n",
        "from datetime import timedelta\n",
        "\n",
        "from datetime import datetime\n",
        "from sklearn import preprocessing\n",
        "from sklearn.datasets import make_blobs\n",
        "from sklearn.preprocessing import StandardScaler\n",
        "from sklearn.cluster import AgglomerativeClustering\n",
        "\n",
        "## models\n",
        "from sklearn.cluster import KMeans\n",
        "\n",
        "# plotting\n",
        "import matplotlib.pyplot as plt\n",
        "import seaborn as sns\n",
        "%matplotlib inline\n",
        "from matplotlib.colors import ListedColormap\n",
        "import plotly.graph_objects as go\n",
        "import plotly.express as px"
      ],
      "execution_count": 2,
      "outputs": []
    },
    {
      "cell_type": "code",
      "metadata": {
        "id": "mlWjrkkBzD-m",
        "colab": {
          "base_uri": "https://localhost:8080/"
        },
        "outputId": "2b278561-b340-4557-bb11-50bd268b798f"
      },
      "source": [
        "#import data\n",
        "\n",
        "ufo_df = pd.read_csv ('https://raw.githubusercontent.com/st-reid/temp/main/UFO-1149.csv')\n",
        "\n",
        "ufo_df.info()"
      ],
      "execution_count": 3,
      "outputs": [
        {
          "output_type": "stream",
          "text": [
            "<class 'pandas.core.frame.DataFrame'>\n",
            "RangeIndex: 80332 entries, 0 to 80331\n",
            "Data columns (total 11 columns):\n",
            " #   Column                Non-Null Count  Dtype  \n",
            "---  ------                --------------  -----  \n",
            " 0   datetime              80332 non-null  object \n",
            " 1   city                  80332 non-null  object \n",
            " 2   state                 74535 non-null  object \n",
            " 3   country               70662 non-null  object \n",
            " 4   shape                 78400 non-null  object \n",
            " 5   duration (seconds)    80332 non-null  float64\n",
            " 6   duration (hours/min)  80332 non-null  object \n",
            " 7   comments              80318 non-null  object \n",
            " 8   date posted           80332 non-null  object \n",
            " 9   latitude              80332 non-null  float64\n",
            " 10  longitude             80332 non-null  float64\n",
            "dtypes: float64(3), object(8)\n",
            "memory usage: 6.7+ MB\n"
          ],
          "name": "stdout"
        }
      ]
    },
    {
      "cell_type": "code",
      "metadata": {
        "id": "oC5vXJ-GzD-p",
        "colab": {
          "base_uri": "https://localhost:8080/",
          "height": 295
        },
        "outputId": "63b87c3c-3937-41ec-d5f7-57b5dc865ced"
      },
      "source": [
        "ufo_df.head()"
      ],
      "execution_count": 4,
      "outputs": [
        {
          "output_type": "execute_result",
          "data": {
            "text/html": [
              "<div>\n",
              "<style scoped>\n",
              "    .dataframe tbody tr th:only-of-type {\n",
              "        vertical-align: middle;\n",
              "    }\n",
              "\n",
              "    .dataframe tbody tr th {\n",
              "        vertical-align: top;\n",
              "    }\n",
              "\n",
              "    .dataframe thead th {\n",
              "        text-align: right;\n",
              "    }\n",
              "</style>\n",
              "<table border=\"1\" class=\"dataframe\">\n",
              "  <thead>\n",
              "    <tr style=\"text-align: right;\">\n",
              "      <th></th>\n",
              "      <th>datetime</th>\n",
              "      <th>city</th>\n",
              "      <th>state</th>\n",
              "      <th>country</th>\n",
              "      <th>shape</th>\n",
              "      <th>duration (seconds)</th>\n",
              "      <th>duration (hours/min)</th>\n",
              "      <th>comments</th>\n",
              "      <th>date posted</th>\n",
              "      <th>latitude</th>\n",
              "      <th>longitude</th>\n",
              "    </tr>\n",
              "  </thead>\n",
              "  <tbody>\n",
              "    <tr>\n",
              "      <th>0</th>\n",
              "      <td>10/10/1949 20:30</td>\n",
              "      <td>san marcos</td>\n",
              "      <td>tx</td>\n",
              "      <td>us</td>\n",
              "      <td>cylinder</td>\n",
              "      <td>2700.0</td>\n",
              "      <td>45 minutes</td>\n",
              "      <td>This event took place in early fall around 194...</td>\n",
              "      <td>4/27/2004</td>\n",
              "      <td>29.8831</td>\n",
              "      <td>-97.9411</td>\n",
              "    </tr>\n",
              "    <tr>\n",
              "      <th>1</th>\n",
              "      <td>10/10/1949 21:00</td>\n",
              "      <td>lackland afb</td>\n",
              "      <td>tx</td>\n",
              "      <td>NaN</td>\n",
              "      <td>light</td>\n",
              "      <td>7200.0</td>\n",
              "      <td>1-2 hrs</td>\n",
              "      <td>1949 Lackland AFB&amp;#44 TX.  Lights racing acros...</td>\n",
              "      <td>12/16/2005</td>\n",
              "      <td>29.3842</td>\n",
              "      <td>-98.5811</td>\n",
              "    </tr>\n",
              "    <tr>\n",
              "      <th>2</th>\n",
              "      <td>10/10/1955 17:00</td>\n",
              "      <td>chester (uk/england)</td>\n",
              "      <td>NaN</td>\n",
              "      <td>gb</td>\n",
              "      <td>circle</td>\n",
              "      <td>20.0</td>\n",
              "      <td>20 seconds</td>\n",
              "      <td>Green/Orange circular disc over Chester&amp;#44 En...</td>\n",
              "      <td>1/21/2008</td>\n",
              "      <td>53.2000</td>\n",
              "      <td>-2.9167</td>\n",
              "    </tr>\n",
              "    <tr>\n",
              "      <th>3</th>\n",
              "      <td>10/10/1956 21:00</td>\n",
              "      <td>edna</td>\n",
              "      <td>tx</td>\n",
              "      <td>us</td>\n",
              "      <td>circle</td>\n",
              "      <td>20.0</td>\n",
              "      <td>1/2 hour</td>\n",
              "      <td>My older brother and twin sister were leaving ...</td>\n",
              "      <td>1/17/2004</td>\n",
              "      <td>28.9783</td>\n",
              "      <td>-96.6458</td>\n",
              "    </tr>\n",
              "    <tr>\n",
              "      <th>4</th>\n",
              "      <td>10/10/1960 20:00</td>\n",
              "      <td>kaneohe</td>\n",
              "      <td>hi</td>\n",
              "      <td>us</td>\n",
              "      <td>light</td>\n",
              "      <td>900.0</td>\n",
              "      <td>15 minutes</td>\n",
              "      <td>AS a Marine 1st Lt. flying an FJ4B fighter/att...</td>\n",
              "      <td>1/22/2004</td>\n",
              "      <td>21.4181</td>\n",
              "      <td>-157.8036</td>\n",
              "    </tr>\n",
              "  </tbody>\n",
              "</table>\n",
              "</div>"
            ],
            "text/plain": [
              "           datetime                  city  ... latitude longitude\n",
              "0  10/10/1949 20:30            san marcos  ...  29.8831  -97.9411\n",
              "1  10/10/1949 21:00          lackland afb  ...  29.3842  -98.5811\n",
              "2  10/10/1955 17:00  chester (uk/england)  ...  53.2000   -2.9167\n",
              "3  10/10/1956 21:00                  edna  ...  28.9783  -96.6458\n",
              "4  10/10/1960 20:00               kaneohe  ...  21.4181 -157.8036\n",
              "\n",
              "[5 rows x 11 columns]"
            ]
          },
          "metadata": {
            "tags": []
          },
          "execution_count": 4
        }
      ]
    },
    {
      "cell_type": "code",
      "metadata": {
        "id": "QiZvn1nAtpLP",
        "colab": {
          "base_uri": "https://localhost:8080/",
          "height": 396
        },
        "outputId": "096b66ab-4b11-46d7-e8e1-803296196dc6"
      },
      "source": [
        "#take out spaces from column names\n",
        "\n",
        "ufo_df1= ufo_df.copy()\n",
        "### format columns of train data\n",
        "\n",
        "ufo_df1.columns = [col.replace(' ','_') for col in ufo_df1]  \n",
        "\n",
        "ufo_df1.head()\n",
        "\n"
      ],
      "execution_count": 5,
      "outputs": [
        {
          "output_type": "execute_result",
          "data": {
            "text/html": [
              "<div>\n",
              "<style scoped>\n",
              "    .dataframe tbody tr th:only-of-type {\n",
              "        vertical-align: middle;\n",
              "    }\n",
              "\n",
              "    .dataframe tbody tr th {\n",
              "        vertical-align: top;\n",
              "    }\n",
              "\n",
              "    .dataframe thead th {\n",
              "        text-align: right;\n",
              "    }\n",
              "</style>\n",
              "<table border=\"1\" class=\"dataframe\">\n",
              "  <thead>\n",
              "    <tr style=\"text-align: right;\">\n",
              "      <th></th>\n",
              "      <th>datetime</th>\n",
              "      <th>city</th>\n",
              "      <th>state</th>\n",
              "      <th>country</th>\n",
              "      <th>shape</th>\n",
              "      <th>duration_(seconds)</th>\n",
              "      <th>duration_(hours/min)</th>\n",
              "      <th>comments</th>\n",
              "      <th>date_posted</th>\n",
              "      <th>latitude</th>\n",
              "      <th>longitude</th>\n",
              "    </tr>\n",
              "  </thead>\n",
              "  <tbody>\n",
              "    <tr>\n",
              "      <th>0</th>\n",
              "      <td>10/10/1949 20:30</td>\n",
              "      <td>san marcos</td>\n",
              "      <td>tx</td>\n",
              "      <td>us</td>\n",
              "      <td>cylinder</td>\n",
              "      <td>2700.0</td>\n",
              "      <td>45 minutes</td>\n",
              "      <td>This event took place in early fall around 194...</td>\n",
              "      <td>4/27/2004</td>\n",
              "      <td>29.8831</td>\n",
              "      <td>-97.9411</td>\n",
              "    </tr>\n",
              "    <tr>\n",
              "      <th>1</th>\n",
              "      <td>10/10/1949 21:00</td>\n",
              "      <td>lackland afb</td>\n",
              "      <td>tx</td>\n",
              "      <td>NaN</td>\n",
              "      <td>light</td>\n",
              "      <td>7200.0</td>\n",
              "      <td>1-2 hrs</td>\n",
              "      <td>1949 Lackland AFB&amp;#44 TX.  Lights racing acros...</td>\n",
              "      <td>12/16/2005</td>\n",
              "      <td>29.3842</td>\n",
              "      <td>-98.5811</td>\n",
              "    </tr>\n",
              "    <tr>\n",
              "      <th>2</th>\n",
              "      <td>10/10/1955 17:00</td>\n",
              "      <td>chester (uk/england)</td>\n",
              "      <td>NaN</td>\n",
              "      <td>gb</td>\n",
              "      <td>circle</td>\n",
              "      <td>20.0</td>\n",
              "      <td>20 seconds</td>\n",
              "      <td>Green/Orange circular disc over Chester&amp;#44 En...</td>\n",
              "      <td>1/21/2008</td>\n",
              "      <td>53.2000</td>\n",
              "      <td>-2.9167</td>\n",
              "    </tr>\n",
              "    <tr>\n",
              "      <th>3</th>\n",
              "      <td>10/10/1956 21:00</td>\n",
              "      <td>edna</td>\n",
              "      <td>tx</td>\n",
              "      <td>us</td>\n",
              "      <td>circle</td>\n",
              "      <td>20.0</td>\n",
              "      <td>1/2 hour</td>\n",
              "      <td>My older brother and twin sister were leaving ...</td>\n",
              "      <td>1/17/2004</td>\n",
              "      <td>28.9783</td>\n",
              "      <td>-96.6458</td>\n",
              "    </tr>\n",
              "    <tr>\n",
              "      <th>4</th>\n",
              "      <td>10/10/1960 20:00</td>\n",
              "      <td>kaneohe</td>\n",
              "      <td>hi</td>\n",
              "      <td>us</td>\n",
              "      <td>light</td>\n",
              "      <td>900.0</td>\n",
              "      <td>15 minutes</td>\n",
              "      <td>AS a Marine 1st Lt. flying an FJ4B fighter/att...</td>\n",
              "      <td>1/22/2004</td>\n",
              "      <td>21.4181</td>\n",
              "      <td>-157.8036</td>\n",
              "    </tr>\n",
              "  </tbody>\n",
              "</table>\n",
              "</div>"
            ],
            "text/plain": [
              "           datetime                  city  ... latitude longitude\n",
              "0  10/10/1949 20:30            san marcos  ...  29.8831  -97.9411\n",
              "1  10/10/1949 21:00          lackland afb  ...  29.3842  -98.5811\n",
              "2  10/10/1955 17:00  chester (uk/england)  ...  53.2000   -2.9167\n",
              "3  10/10/1956 21:00                  edna  ...  28.9783  -96.6458\n",
              "4  10/10/1960 20:00               kaneohe  ...  21.4181 -157.8036\n",
              "\n",
              "[5 rows x 11 columns]"
            ]
          },
          "metadata": {
            "tags": []
          },
          "execution_count": 5
        }
      ]
    },
    {
      "cell_type": "code",
      "metadata": {
        "id": "-5N92L4Ru7eH",
        "colab": {
          "base_uri": "https://localhost:8080/",
          "height": 530
        },
        "outputId": "f983d7c2-8f03-4291-9d43-1350db4cc03d"
      },
      "source": [
        "## format date columns to dates\n",
        "\n",
        "ufo_df1['datetime'] = ufo_df1['datetime'].str.replace('24:00', '0:00')\n",
        "ufo_df1['datetime']=ufo_df1['datetime'].astype('datetime64[ns]')\n",
        "\n",
        "ufo_df1['date_posted']=ufo_df1['date_posted'].astype('datetime64[ns]')\n",
        "\n",
        "ufo_df1.head()"
      ],
      "execution_count": 6,
      "outputs": [
        {
          "output_type": "execute_result",
          "data": {
            "text/html": [
              "<div>\n",
              "<style scoped>\n",
              "    .dataframe tbody tr th:only-of-type {\n",
              "        vertical-align: middle;\n",
              "    }\n",
              "\n",
              "    .dataframe tbody tr th {\n",
              "        vertical-align: top;\n",
              "    }\n",
              "\n",
              "    .dataframe thead th {\n",
              "        text-align: right;\n",
              "    }\n",
              "</style>\n",
              "<table border=\"1\" class=\"dataframe\">\n",
              "  <thead>\n",
              "    <tr style=\"text-align: right;\">\n",
              "      <th></th>\n",
              "      <th>datetime</th>\n",
              "      <th>city</th>\n",
              "      <th>state</th>\n",
              "      <th>country</th>\n",
              "      <th>shape</th>\n",
              "      <th>duration_(seconds)</th>\n",
              "      <th>duration_(hours/min)</th>\n",
              "      <th>comments</th>\n",
              "      <th>date_posted</th>\n",
              "      <th>latitude</th>\n",
              "      <th>longitude</th>\n",
              "    </tr>\n",
              "  </thead>\n",
              "  <tbody>\n",
              "    <tr>\n",
              "      <th>0</th>\n",
              "      <td>1949-10-10 20:30:00</td>\n",
              "      <td>san marcos</td>\n",
              "      <td>tx</td>\n",
              "      <td>us</td>\n",
              "      <td>cylinder</td>\n",
              "      <td>2700.0</td>\n",
              "      <td>45 minutes</td>\n",
              "      <td>This event took place in early fall around 194...</td>\n",
              "      <td>2004-04-27</td>\n",
              "      <td>29.8831</td>\n",
              "      <td>-97.9411</td>\n",
              "    </tr>\n",
              "    <tr>\n",
              "      <th>1</th>\n",
              "      <td>1949-10-10 21:00:00</td>\n",
              "      <td>lackland afb</td>\n",
              "      <td>tx</td>\n",
              "      <td>NaN</td>\n",
              "      <td>light</td>\n",
              "      <td>7200.0</td>\n",
              "      <td>1-2 hrs</td>\n",
              "      <td>1949 Lackland AFB&amp;#44 TX.  Lights racing acros...</td>\n",
              "      <td>2005-12-16</td>\n",
              "      <td>29.3842</td>\n",
              "      <td>-98.5811</td>\n",
              "    </tr>\n",
              "    <tr>\n",
              "      <th>2</th>\n",
              "      <td>1955-10-10 17:00:00</td>\n",
              "      <td>chester (uk/england)</td>\n",
              "      <td>NaN</td>\n",
              "      <td>gb</td>\n",
              "      <td>circle</td>\n",
              "      <td>20.0</td>\n",
              "      <td>20 seconds</td>\n",
              "      <td>Green/Orange circular disc over Chester&amp;#44 En...</td>\n",
              "      <td>2008-01-21</td>\n",
              "      <td>53.2000</td>\n",
              "      <td>-2.9167</td>\n",
              "    </tr>\n",
              "    <tr>\n",
              "      <th>3</th>\n",
              "      <td>1956-10-10 21:00:00</td>\n",
              "      <td>edna</td>\n",
              "      <td>tx</td>\n",
              "      <td>us</td>\n",
              "      <td>circle</td>\n",
              "      <td>20.0</td>\n",
              "      <td>1/2 hour</td>\n",
              "      <td>My older brother and twin sister were leaving ...</td>\n",
              "      <td>2004-01-17</td>\n",
              "      <td>28.9783</td>\n",
              "      <td>-96.6458</td>\n",
              "    </tr>\n",
              "    <tr>\n",
              "      <th>4</th>\n",
              "      <td>1960-10-10 20:00:00</td>\n",
              "      <td>kaneohe</td>\n",
              "      <td>hi</td>\n",
              "      <td>us</td>\n",
              "      <td>light</td>\n",
              "      <td>900.0</td>\n",
              "      <td>15 minutes</td>\n",
              "      <td>AS a Marine 1st Lt. flying an FJ4B fighter/att...</td>\n",
              "      <td>2004-01-22</td>\n",
              "      <td>21.4181</td>\n",
              "      <td>-157.8036</td>\n",
              "    </tr>\n",
              "  </tbody>\n",
              "</table>\n",
              "</div>"
            ],
            "text/plain": [
              "             datetime                  city  ... latitude longitude\n",
              "0 1949-10-10 20:30:00            san marcos  ...  29.8831  -97.9411\n",
              "1 1949-10-10 21:00:00          lackland afb  ...  29.3842  -98.5811\n",
              "2 1955-10-10 17:00:00  chester (uk/england)  ...  53.2000   -2.9167\n",
              "3 1956-10-10 21:00:00                  edna  ...  28.9783  -96.6458\n",
              "4 1960-10-10 20:00:00               kaneohe  ...  21.4181 -157.8036\n",
              "\n",
              "[5 rows x 11 columns]"
            ]
          },
          "metadata": {
            "tags": []
          },
          "execution_count": 6
        }
      ]
    },
    {
      "cell_type": "code",
      "metadata": {
        "id": "sDCYqKXfyMZX",
        "colab": {
          "base_uri": "https://localhost:8080/",
          "height": 398
        },
        "outputId": "ab72f4e7-0364-4a22-b0c0-a53324080236"
      },
      "source": [
        "## check Nan values\n",
        "\n",
        "# plot missing data for the test dats:\n",
        "ufo_df1.isnull().sum().plot(kind='bar', color='blue')\n",
        "# Add a title and show the plot.\n",
        "plt.title('Number of Missing Values Per Column', fontsize=15)\n",
        "# Create tick mark labels on the Y axis and rotate them.\n",
        "plt.xticks(rotation = 90)\n",
        "# Create X axis label.\n",
        "plt.xlabel(\"Columns\", fontsize=15)\n",
        "# Create Y axis label.\n",
        "plt.ylabel(\"NaN Values\",fontsize=15 );\n"
      ],
      "execution_count": 7,
      "outputs": [
        {
          "output_type": "display_data",
          "data": {
            "image/png": "[encoded data removed]",
            "text/plain": [
              "<Figure size 432x288 with 1 Axes>"
            ]
          },
          "metadata": {
            "tags": [],
            "needs_background": "light"
          }
        }
      ]
    },
    {
      "cell_type": "code",
      "metadata": {
        "id": "hHnR2W76ygnq",
        "colab": {
          "base_uri": "https://localhost:8080/",
          "height": 530
        },
        "outputId": "a5aae77d-6a70-4d2f-96c1-a405f91f76ad"
      },
      "source": [
        "## replace missing value with blanks\n",
        "\n",
        "ufo_df2 = ufo_df1.copy()\n",
        "\n",
        "ufo_df2['state'] = ufo_df2['state'].fillna('')\n",
        "\n",
        "ufo_df2['country'] = ufo_df2['country'].fillna('')\n",
        "\n",
        "ufo_df2['shape'] = ufo_df2['shape'].fillna('')\n",
        "\n",
        "\n",
        "ufo_df2.head(5)"
      ],
      "execution_count": 8,
      "outputs": [
        {
          "output_type": "execute_result",
          "data": {
            "text/html": [
              "<div>\n",
              "<style scoped>\n",
              "    .dataframe tbody tr th:only-of-type {\n",
              "        vertical-align: middle;\n",
              "    }\n",
              "\n",
              "    .dataframe tbody tr th {\n",
              "        vertical-align: top;\n",
              "    }\n",
              "\n",
              "    .dataframe thead th {\n",
              "        text-align: right;\n",
              "    }\n",
              "</style>\n",
              "<table border=\"1\" class=\"dataframe\">\n",
              "  <thead>\n",
              "    <tr style=\"text-align: right;\">\n",
              "      <th></th>\n",
              "      <th>datetime</th>\n",
              "      <th>city</th>\n",
              "      <th>state</th>\n",
              "      <th>country</th>\n",
              "      <th>shape</th>\n",
              "      <th>duration_(seconds)</th>\n",
              "      <th>duration_(hours/min)</th>\n",
              "      <th>comments</th>\n",
              "      <th>date_posted</th>\n",
              "      <th>latitude</th>\n",
              "      <th>longitude</th>\n",
              "    </tr>\n",
              "  </thead>\n",
              "  <tbody>\n",
              "    <tr>\n",
              "      <th>0</th>\n",
              "      <td>1949-10-10 20:30:00</td>\n",
              "      <td>san marcos</td>\n",
              "      <td>tx</td>\n",
              "      <td>us</td>\n",
              "      <td>cylinder</td>\n",
              "      <td>2700.0</td>\n",
              "      <td>45 minutes</td>\n",
              "      <td>This event took place in early fall around 194...</td>\n",
              "      <td>2004-04-27</td>\n",
              "      <td>29.8831</td>\n",
              "      <td>-97.9411</td>\n",
              "    </tr>\n",
              "    <tr>\n",
              "      <th>1</th>\n",
              "      <td>1949-10-10 21:00:00</td>\n",
              "      <td>lackland afb</td>\n",
              "      <td>tx</td>\n",
              "      <td></td>\n",
              "      <td>light</td>\n",
              "      <td>7200.0</td>\n",
              "      <td>1-2 hrs</td>\n",
              "      <td>1949 Lackland AFB&amp;#44 TX.  Lights racing acros...</td>\n",
              "      <td>2005-12-16</td>\n",
              "      <td>29.3842</td>\n",
              "      <td>-98.5811</td>\n",
              "    </tr>\n",
              "    <tr>\n",
              "      <th>2</th>\n",
              "      <td>1955-10-10 17:00:00</td>\n",
              "      <td>chester (uk/england)</td>\n",
              "      <td></td>\n",
              "      <td>gb</td>\n",
              "      <td>circle</td>\n",
              "      <td>20.0</td>\n",
              "      <td>20 seconds</td>\n",
              "      <td>Green/Orange circular disc over Chester&amp;#44 En...</td>\n",
              "      <td>2008-01-21</td>\n",
              "      <td>53.2000</td>\n",
              "      <td>-2.9167</td>\n",
              "    </tr>\n",
              "    <tr>\n",
              "      <th>3</th>\n",
              "      <td>1956-10-10 21:00:00</td>\n",
              "      <td>edna</td>\n",
              "      <td>tx</td>\n",
              "      <td>us</td>\n",
              "      <td>circle</td>\n",
              "      <td>20.0</td>\n",
              "      <td>1/2 hour</td>\n",
              "      <td>My older brother and twin sister were leaving ...</td>\n",
              "      <td>2004-01-17</td>\n",
              "      <td>28.9783</td>\n",
              "      <td>-96.6458</td>\n",
              "    </tr>\n",
              "    <tr>\n",
              "      <th>4</th>\n",
              "      <td>1960-10-10 20:00:00</td>\n",
              "      <td>kaneohe</td>\n",
              "      <td>hi</td>\n",
              "      <td>us</td>\n",
              "      <td>light</td>\n",
              "      <td>900.0</td>\n",
              "      <td>15 minutes</td>\n",
              "      <td>AS a Marine 1st Lt. flying an FJ4B fighter/att...</td>\n",
              "      <td>2004-01-22</td>\n",
              "      <td>21.4181</td>\n",
              "      <td>-157.8036</td>\n",
              "    </tr>\n",
              "  </tbody>\n",
              "</table>\n",
              "</div>"
            ],
            "text/plain": [
              "             datetime                  city  ... latitude longitude\n",
              "0 1949-10-10 20:30:00            san marcos  ...  29.8831  -97.9411\n",
              "1 1949-10-10 21:00:00          lackland afb  ...  29.3842  -98.5811\n",
              "2 1955-10-10 17:00:00  chester (uk/england)  ...  53.2000   -2.9167\n",
              "3 1956-10-10 21:00:00                  edna  ...  28.9783  -96.6458\n",
              "4 1960-10-10 20:00:00               kaneohe  ...  21.4181 -157.8036\n",
              "\n",
              "[5 rows x 11 columns]"
            ]
          },
          "metadata": {
            "tags": []
          },
          "execution_count": 8
        }
      ]
    },
    {
      "cell_type": "code",
      "metadata": {
        "id": "UpdCwDfexk_x",
        "colab": {
          "base_uri": "https://localhost:8080/",
          "height": 375
        },
        "outputId": "4e4e040e-a52c-43e3-ab0b-ceed66b94455"
      },
      "source": [
        "## find the countries represented\n",
        "\n",
        "counts = ufo_df1['country'].value_counts()\n",
        "\n",
        "total = len(ufo_df1['country'])\n",
        "\n",
        "frequency = counts/total*100\n",
        "\n",
        "frequency.plot(kind = 'bar',color=(0.2, 0.4, 0.6, 0.6))\n",
        "\n",
        "print(frequency)"
      ],
      "execution_count": 9,
      "outputs": [
        {
          "output_type": "stream",
          "text": [
            "us    81.056117\n",
            "ca     3.734502\n",
            "gb     2.371409\n",
            "au     0.669721\n",
            "de     0.130708\n",
            "Name: country, dtype: float64\n"
          ],
          "name": "stdout"
        },
        {
          "output_type": "display_data",
          "data": {
            "image/png": "[encoded data removed]",
            "text/plain": [
              "<Figure size 432x288 with 1 Axes>"
            ]
          },
          "metadata": {
            "tags": [],
            "needs_background": "light"
          }
        }
      ]
    },
    {
      "cell_type": "markdown",
      "metadata": {
        "id": "p2NJRmREzD-s"
      },
      "source": [
        "### Calculate the number of clusters for Kmeans"
      ]
    },
    {
      "cell_type": "code",
      "metadata": {
        "id": "X6HJwAL90KyI",
        "colab": {
          "base_uri": "https://localhost:8080/",
          "height": 194
        },
        "outputId": "cb03e054-5a98-4f1b-b367-418e71c05cbe"
      },
      "source": [
        "## use the co-ords only\n",
        "cols = ['datetime','city','state','country','shape','duration_(seconds)','duration_(hours/min)','comments','date_posted']\n",
        "\n",
        "ufo_cords = ufo_df2.drop(cols, inplace=False, axis=1)\n",
        "\n",
        "ufo_cords.head(5)"
      ],
      "execution_count": 10,
      "outputs": [
        {
          "output_type": "execute_result",
          "data": {
            "text/html": [
              "<div>\n",
              "<style scoped>\n",
              "    .dataframe tbody tr th:only-of-type {\n",
              "        vertical-align: middle;\n",
              "    }\n",
              "\n",
              "    .dataframe tbody tr th {\n",
              "        vertical-align: top;\n",
              "    }\n",
              "\n",
              "    .dataframe thead th {\n",
              "        text-align: right;\n",
              "    }\n",
              "</style>\n",
              "<table border=\"1\" class=\"dataframe\">\n",
              "  <thead>\n",
              "    <tr style=\"text-align: right;\">\n",
              "      <th></th>\n",
              "      <th>latitude</th>\n",
              "      <th>longitude</th>\n",
              "    </tr>\n",
              "  </thead>\n",
              "  <tbody>\n",
              "    <tr>\n",
              "      <th>0</th>\n",
              "      <td>29.8831</td>\n",
              "      <td>-97.9411</td>\n",
              "    </tr>\n",
              "    <tr>\n",
              "      <th>1</th>\n",
              "      <td>29.3842</td>\n",
              "      <td>-98.5811</td>\n",
              "    </tr>\n",
              "    <tr>\n",
              "      <th>2</th>\n",
              "      <td>53.2000</td>\n",
              "      <td>-2.9167</td>\n",
              "    </tr>\n",
              "    <tr>\n",
              "      <th>3</th>\n",
              "      <td>28.9783</td>\n",
              "      <td>-96.6458</td>\n",
              "    </tr>\n",
              "    <tr>\n",
              "      <th>4</th>\n",
              "      <td>21.4181</td>\n",
              "      <td>-157.8036</td>\n",
              "    </tr>\n",
              "  </tbody>\n",
              "</table>\n",
              "</div>"
            ],
            "text/plain": [
              "   latitude  longitude\n",
              "0   29.8831   -97.9411\n",
              "1   29.3842   -98.5811\n",
              "2   53.2000    -2.9167\n",
              "3   28.9783   -96.6458\n",
              "4   21.4181  -157.8036"
            ]
          },
          "metadata": {
            "tags": []
          },
          "execution_count": 10
        }
      ]
    },
    {
      "cell_type": "code",
      "metadata": {
        "id": "Eop8ffoT1_BU",
        "colab": {
          "base_uri": "https://localhost:8080/",
          "height": 500
        },
        "outputId": "1261ad1d-5045-4724-9e6a-9c11e1139de3"
      },
      "source": [
        "plt.figure(dpi=120)\n",
        "x1 = ufo_cords['longitude']\n",
        "x2 = ufo_cords['latitude']\n",
        "plt.scatter(x1, x2)\n",
        "plt.title(\"Co-ords\")\n",
        "plt.xlabel('Longitude')\n",
        "plt.ylabel('Latitude')"
      ],
      "execution_count": 11,
      "outputs": [
        {
          "output_type": "execute_result",
          "data": {
            "text/plain": [
              "Text(0, 0.5, 'Latitude')"
            ]
          },
          "metadata": {
            "tags": []
          },
          "execution_count": 11
        },
        {
          "output_type": "display_data",
          "data": {
            "image/png": "[encoded data removed]",
            "text/plain": [
              "<Figure size 720x480 with 1 Axes>"
            ]
          },
          "metadata": {
            "tags": [],
            "needs_background": "light"
          }
        }
      ]
    },
    {
      "cell_type": "code",
      "metadata": {
        "id": "JZ85qawVzD-t"
      },
      "source": [
        "# create scaler object\n",
        "scaler = StandardScaler()\n",
        "\n",
        "# scale the data\n",
        "X_scaled = scaler.fit_transform(ufo_cords)"
      ],
      "execution_count": 12,
      "outputs": []
    },
    {
      "cell_type": "code",
      "metadata": {
        "id": "_0u4oyy7Gfb0",
        "colab": {
          "base_uri": "https://localhost:8080/"
        },
        "outputId": "557ec43f-0ed8-4b1c-c847-03279b88708f"
      },
      "source": [
        "print(X_scaled)"
      ],
      "execution_count": 13,
      "outputs": [
        {
          "output_type": "stream",
          "text": [
            "[[-0.78717219 -0.28133682]\n",
            " [-0.8348248  -0.29745896]\n",
            " [ 1.43994982  2.11240837]\n",
            " ...\n",
            " [ 0.01650357 -0.89456519]\n",
            " [ 0.07418529  0.23949655]\n",
            " [-0.23607724 -0.2696659 ]]\n"
          ],
          "name": "stdout"
        }
      ]
    },
    {
      "cell_type": "code",
      "metadata": {
        "id": "qVCxZIkV3ADA"
      },
      "source": [
        "K=4"
      ],
      "execution_count": 14,
      "outputs": []
    },
    {
      "cell_type": "code",
      "metadata": {
        "id": "Ksx06lbs25mc"
      },
      "source": [
        "# Import KMeans model\n",
        "from sklearn.cluster import KMeans\n",
        "# Import time to measure algorithm runtime \n",
        "from time import time"
      ],
      "execution_count": 15,
      "outputs": []
    },
    {
      "cell_type": "code",
      "metadata": {
        "id": "yswEKdwVzD-v"
      },
      "source": [
        "## model and fit\n",
        "\n",
        "#km = KMeans(n_clusters=K, random_state=42)\n",
        "#km.fit(X_scaled)\n"
      ],
      "execution_count": 16,
      "outputs": []
    },
    {
      "cell_type": "markdown",
      "metadata": {
        "id": "UeIJZoqa768O"
      },
      "source": [
        "## Question 3\n"
      ]
    },
    {
      "cell_type": "code",
      "metadata": {
        "id": "M__2f8A13IE_"
      },
      "source": [
        "# Manually implement the WCSS\n",
        "def within_cluster_variation(df, label_col='label'):\n",
        "    centroids = df.groupby(label_col).mean()\n",
        "    out = 0\n",
        "    for label, point in centroids.iterrows():\n",
        "        df_features = df[df[label_col] == label].drop(label_col, axis=1)\n",
        "        out += (df_features - point).pow(2).sum(axis=1).sum()\n",
        "    return out"
      ],
      "execution_count": 17,
      "outputs": []
    },
    {
      "cell_type": "code",
      "metadata": {
        "id": "aa5VSdrH3Xoz"
      },
      "source": [
        "# let's try everything between 1 and 10 clusters\n",
        "n_clusters = np.arange(1, 20)\n",
        "\n",
        "# store errors for each value of k\n",
        "errors = []\n",
        "\n",
        "# for i between 2 and 20\n",
        "for k in n_clusters:\n",
        "    # perform k-means clustering\n",
        "    km = KMeans(n_clusters=k, random_state=42)\n",
        "    km.fit(X_scaled)\n",
        "\n",
        "    # measure BCSS\n",
        "\n",
        "    y_preds = km.predict(X_scaled)\n",
        "    ufo_cords['cluster_label'] = y_preds\n",
        "    errors.append(within_cluster_variation(ufo_cords,'cluster_label'))"
      ],
      "execution_count": 18,
      "outputs": []
    },
    {
      "cell_type": "code",
      "metadata": {
        "id": "bYokGZ6r6hqP",
        "colab": {
          "base_uri": "https://localhost:8080/",
          "height": 513
        },
        "outputId": "5ab1f145-eb4c-4a1c-a520-46292e9f1d71"
      },
      "source": [
        "plt.figure(figsize=(12,8))\n",
        "plt.xlabel('Number of Clusters (k)')\n",
        "plt.ylabel('Within-Cluster Sum of Squares (WCSS)')\n",
        "plt.title('Elbow Method for Determining Optimal Value of k')\n",
        "plt.scatter(n_clusters, errors)\n",
        "plt.plot(n_clusters, errors)\n",
        "plt.xticks(n_clusters)\n",
        "plt.show()"
      ],
      "execution_count": 19,
      "outputs": [
        {
          "output_type": "display_data",
          "data": {
            "image/png": "[encoded data removed]",
            "text/plain": [
              "<Figure size 864x576 with 1 Axes>"
            ]
          },
          "metadata": {
            "tags": [],
            "needs_background": "light"
          }
        }
      ]
    },
    {
      "cell_type": "code",
      "metadata": {
        "id": "YiGbaCDq3DKw"
      },
      "source": [
        "Sum_of_squared_distances = []\n",
        "K = range(1,12)\n",
        "for k in K:\n",
        "    km = KMeans(n_clusters=k)\n",
        "    km = km.fit(X_scaled)\n",
        "    Sum_of_squared_distances.append(km.inertia_)"
      ],
      "execution_count": 20,
      "outputs": []
    },
    {
      "cell_type": "code",
      "metadata": {
        "colab": {
          "base_uri": "https://localhost:8080/",
          "height": 295
        },
        "id": "u5Vd8cKF3DcH",
        "outputId": "ccafde2a-ae6b-4456-c84c-a3006328e2b1"
      },
      "source": [
        "plt.plot(K, Sum_of_squared_distances, 'bx-')\n",
        "plt.xlabel('k')\n",
        "plt.ylabel('Sum_of_squared_distances')\n",
        "plt.title('Elbow Method For Optimal k')\n",
        "plt.show()"
      ],
      "execution_count": 21,
      "outputs": [
        {
          "output_type": "display_data",
          "data": {
            "image/png": "[encoded data removed]",
            "text/plain": [
              "<Figure size 432x288 with 1 Axes>"
            ]
          },
          "metadata": {
            "tags": [],
            "needs_background": "light"
          }
        }
      ]
    },
    {
      "cell_type": "code",
      "metadata": {
        "id": "h2Z-ZNdj7Pqj"
      },
      "source": [
        "# Between cluster variation\n",
        "def between_cluster_variation(df, label_col='label'):\n",
        "    centroids = df.groupby(label_col).mean()\n",
        "    global_mean = df.drop(label_col, axis=1).mean()\n",
        "    centroid_count = df.groupby(label_col).size()\n",
        "    centroid_to_mean_dist = (centroids - global_mean).pow(2).sum(axis=1)\n",
        "    return (centroid_count*centroid_to_mean_dist).sum()"
      ],
      "execution_count": 22,
      "outputs": []
    },
    {
      "cell_type": "code",
      "metadata": {
        "id": "UUGfTQ6n7QZA"
      },
      "source": [
        "# let's try everything between 2 and 15 clusters\n",
        "n_clusters = np.arange(2, 15)\n",
        "\n",
        "# store errors for each value of k\n",
        "errors = []\n",
        "\n",
        "# for i between 2 and 15\n",
        "for k in n_clusters:\n",
        "    # perform k-means clustering\n",
        "    km = KMeans(n_clusters=k, n_init=10, max_iter=300, random_state=42)\n",
        "    km.fit(X_scaled)\n",
        "    \n",
        "    # measure BCSS\n",
        "\n",
        "    y_preds = km.predict(X_scaled)\n",
        "    ufo_cords['cluster_label'] = y_preds\n",
        "    errors.append(between_cluster_variation(ufo_cords,'cluster_label'))"
      ],
      "execution_count": 23,
      "outputs": []
    },
    {
      "cell_type": "code",
      "metadata": {
        "id": "H3NKtevc7Tyc",
        "colab": {
          "base_uri": "https://localhost:8080/",
          "height": 513
        },
        "outputId": "a35f03a8-e7ef-46cf-ed0b-0a88a0f56ddf"
      },
      "source": [
        "plt.figure(figsize=(12,8))\n",
        "plt.xlabel('Number of Clusters (k)')\n",
        "plt.ylabel('Between-Cluster Sum of Squares (WCSS)')\n",
        "plt.title('Elbow Method for Determining Optimal Value of k')\n",
        "plt.scatter(n_clusters, errors)\n",
        "plt.plot(n_clusters, errors)\n",
        "plt.xticks(n_clusters)\n",
        "plt.show()"
      ],
      "execution_count": 24,
      "outputs": [
        {
          "output_type": "display_data",
          "data": {
            "image/png": "[encoded data removed]",
            "text/plain": [
              "<Figure size 864x576 with 1 Axes>"
            ]
          },
          "metadata": {
            "tags": [],
            "needs_background": "light"
          }
        }
      ]
    },
    {
      "cell_type": "markdown",
      "metadata": {
        "id": "CTrrPzFO7uAU"
      },
      "source": [
        "## Question 4\n"
      ]
    },
    {
      "cell_type": "code",
      "metadata": {
        "id": "jWG7k9_h80yr",
        "colab": {
          "base_uri": "https://localhost:8080/"
        },
        "outputId": "0a70bd8a-16c3-4081-bab9-7a17e20c385c"
      },
      "source": [
        "## model the clusters\n",
        "\n",
        "K = 5\n",
        "# remember to set the random state for reproducibility\n",
        "km = KMeans(n_clusters=K, verbose=0, random_state=42)\n",
        "print(\"Clustering sparse data with %s\" % km)\n",
        "t0 = time()\n",
        "km.fit(X_scaled)\n",
        "print(\"done in %0.3fs\" % (time() - t0))"
      ],
      "execution_count": 25,
      "outputs": [
        {
          "output_type": "stream",
          "text": [
            "Clustering sparse data with KMeans(algorithm='auto', copy_x=True, init='k-means++', max_iter=300,\n",
            "       n_clusters=5, n_init=10, n_jobs=None, precompute_distances='auto',\n",
            "       random_state=42, tol=0.0001, verbose=0)\n",
            "done in 1.036s\n"
          ],
          "name": "stdout"
        }
      ]
    },
    {
      "cell_type": "code",
      "metadata": {
        "id": "pJXAG5dI9D4N"
      },
      "source": [
        "# obtain cluster memberships for each item in the data\n",
        "y_preds = km.predict(X_scaled)\n",
        "ufo_cords['cluster_label'] = y_preds\n",
        "centers = scaler.inverse_transform(km.cluster_centers_)"
      ],
      "execution_count": 26,
      "outputs": []
    },
    {
      "cell_type": "code",
      "metadata": {
        "id": "JZHZamG89Fpm",
        "colab": {
          "base_uri": "https://localhost:8080/",
          "height": 500
        },
        "outputId": "93bbe66f-4ab1-48c1-db39-5bc7f6ea63f3"
      },
      "source": [
        "# visualise the clusters\n",
        "plt.figure(dpi=120)\n",
        "for k in range(K):\n",
        "    x1 = ufo_cords[ufo_cords['cluster_label'] == k]['longitude']\n",
        "    x2 = ufo_cords[ufo_cords['cluster_label'] == k]['latitude']\n",
        "    plt.scatter(x1, x2, label=\"k = \"+str(k+1))\n",
        "    \n",
        "# show cluster centroid locations\n",
        "plt.scatter(centers[:,0],centers[:,1],label=\"centroid\")\n",
        "\n",
        "\n",
        "plt.legend()\n",
        "plt.title(\"K = 5\")\n",
        "plt.xlabel('Feature 1')\n",
        "plt.ylabel('Feature 2')"
      ],
      "execution_count": 27,
      "outputs": [
        {
          "output_type": "execute_result",
          "data": {
            "text/plain": [
              "Text(0, 0.5, 'Feature 2')"
            ]
          },
          "metadata": {
            "tags": []
          },
          "execution_count": 27
        },
        {
          "output_type": "display_data",
          "data": {
            "image/png": "[encoded data removed]",
            "text/plain": [
              "<Figure size 720x480 with 1 Axes>"
            ]
          },
          "metadata": {
            "tags": [],
            "needs_background": "light"
          }
        }
      ]
    },
    {
      "cell_type": "code",
      "metadata": {
        "id": "m76FnNwL-6vK",
        "colab": {
          "base_uri": "https://localhost:8080/",
          "height": 194
        },
        "outputId": "dc6785ac-722d-4d68-ef84-6b0129334edc"
      },
      "source": [
        "ufo_cords.head()"
      ],
      "execution_count": 28,
      "outputs": [
        {
          "output_type": "execute_result",
          "data": {
            "text/html": [
              "<div>\n",
              "<style scoped>\n",
              "    .dataframe tbody tr th:only-of-type {\n",
              "        vertical-align: middle;\n",
              "    }\n",
              "\n",
              "    .dataframe tbody tr th {\n",
              "        vertical-align: top;\n",
              "    }\n",
              "\n",
              "    .dataframe thead th {\n",
              "        text-align: right;\n",
              "    }\n",
              "</style>\n",
              "<table border=\"1\" class=\"dataframe\">\n",
              "  <thead>\n",
              "    <tr style=\"text-align: right;\">\n",
              "      <th></th>\n",
              "      <th>latitude</th>\n",
              "      <th>longitude</th>\n",
              "      <th>cluster_label</th>\n",
              "    </tr>\n",
              "  </thead>\n",
              "  <tbody>\n",
              "    <tr>\n",
              "      <th>0</th>\n",
              "      <td>29.8831</td>\n",
              "      <td>-97.9411</td>\n",
              "      <td>4</td>\n",
              "    </tr>\n",
              "    <tr>\n",
              "      <th>1</th>\n",
              "      <td>29.3842</td>\n",
              "      <td>-98.5811</td>\n",
              "      <td>4</td>\n",
              "    </tr>\n",
              "    <tr>\n",
              "      <th>2</th>\n",
              "      <td>53.2000</td>\n",
              "      <td>-2.9167</td>\n",
              "      <td>3</td>\n",
              "    </tr>\n",
              "    <tr>\n",
              "      <th>3</th>\n",
              "      <td>28.9783</td>\n",
              "      <td>-96.6458</td>\n",
              "      <td>4</td>\n",
              "    </tr>\n",
              "    <tr>\n",
              "      <th>4</th>\n",
              "      <td>21.4181</td>\n",
              "      <td>-157.8036</td>\n",
              "      <td>4</td>\n",
              "    </tr>\n",
              "  </tbody>\n",
              "</table>\n",
              "</div>"
            ],
            "text/plain": [
              "   latitude  longitude  cluster_label\n",
              "0   29.8831   -97.9411              4\n",
              "1   29.3842   -98.5811              4\n",
              "2   53.2000    -2.9167              3\n",
              "3   28.9783   -96.6458              4\n",
              "4   21.4181  -157.8036              4"
            ]
          },
          "metadata": {
            "tags": []
          },
          "execution_count": 28
        }
      ]
    },
    {
      "cell_type": "code",
      "metadata": {
        "id": "GiLTmo0L6-Eg"
      },
      "source": [
        "ufo_cords.to_csv('clusters.csv')"
      ],
      "execution_count": 29,
      "outputs": []
    },
    {
      "cell_type": "code",
      "metadata": {
        "id": "Q08ViOQT-ulp",
        "colab": {
          "base_uri": "https://localhost:8080/",
          "height": 106
        },
        "outputId": "78499b89-9acc-4c36-bd8f-659e5d49a941"
      },
      "source": [
        "ufo_cords.groupby('cluster_label').agg('median').T"
      ],
      "execution_count": 30,
      "outputs": [
        {
          "output_type": "execute_result",
          "data": {
            "text/html": [
              "<div>\n",
              "<style scoped>\n",
              "    .dataframe tbody tr th:only-of-type {\n",
              "        vertical-align: middle;\n",
              "    }\n",
              "\n",
              "    .dataframe tbody tr th {\n",
              "        vertical-align: top;\n",
              "    }\n",
              "\n",
              "    .dataframe thead th {\n",
              "        text-align: right;\n",
              "    }\n",
              "</style>\n",
              "<table border=\"1\" class=\"dataframe\">\n",
              "  <thead>\n",
              "    <tr style=\"text-align: right;\">\n",
              "      <th>cluster_label</th>\n",
              "      <th>0</th>\n",
              "      <th>1</th>\n",
              "      <th>2</th>\n",
              "      <th>3</th>\n",
              "      <th>4</th>\n",
              "    </tr>\n",
              "  </thead>\n",
              "  <tbody>\n",
              "    <tr>\n",
              "      <th>latitude</th>\n",
              "      <td>45.2944</td>\n",
              "      <td>41.1306</td>\n",
              "      <td>-29.8587</td>\n",
              "      <td>51.6333</td>\n",
              "      <td>33.4269</td>\n",
              "    </tr>\n",
              "    <tr>\n",
              "      <th>longitude</th>\n",
              "      <td>-121.8939</td>\n",
              "      <td>-80.6069</td>\n",
              "      <td>133.7751</td>\n",
              "      <td>-0.3500</td>\n",
              "      <td>-97.3961</td>\n",
              "    </tr>\n",
              "  </tbody>\n",
              "</table>\n",
              "</div>"
            ],
            "text/plain": [
              "cluster_label         0        1         2        3        4\n",
              "latitude        45.2944  41.1306  -29.8587  51.6333  33.4269\n",
              "longitude     -121.8939 -80.6069  133.7751  -0.3500 -97.3961"
            ]
          },
          "metadata": {
            "tags": []
          },
          "execution_count": 30
        }
      ]
    },
    {
      "cell_type": "code",
      "metadata": {
        "id": "WHPNQBTH-3YM",
        "colab": {
          "base_uri": "https://localhost:8080/"
        },
        "outputId": "978a9d8f-9ea0-46c8-b476-23bfa5abfd6b"
      },
      "source": [
        "km.labels_[:100]"
      ],
      "execution_count": 31,
      "outputs": [
        {
          "output_type": "execute_result",
          "data": {
            "text/plain": [
              "array([4, 4, 3, 4, 4, 1, 3, 1, 4, 4, 4, 4, 1, 1, 1, 1, 1, 1, 4, 1, 3, 1,\n",
              "       4, 0, 3, 4, 1, 1, 1, 0, 4, 1, 4, 4, 1, 2, 4, 1, 1, 3, 1, 1, 1, 0,\n",
              "       0, 4, 0, 1, 4, 1, 1, 4, 4, 1, 4, 3, 1, 1, 4, 1, 4, 1, 1, 0, 1, 2,\n",
              "       4, 1, 1, 4, 4, 1, 4, 4, 1, 4, 4, 1, 0, 1, 1, 4, 0, 1, 4, 4, 0, 0,\n",
              "       0, 1, 4, 0, 1, 1, 4, 1, 1, 1, 1, 1], dtype=int32)"
            ]
          },
          "metadata": {
            "tags": []
          },
          "execution_count": 31
        }
      ]
    },
    {
      "cell_type": "code",
      "metadata": {
        "id": "EXwB9TG0-5gs",
        "colab": {
          "base_uri": "https://localhost:8080/",
          "height": 400
        },
        "outputId": "05e01ef3-d0ef-405b-bcc0-c9cc144cd5f8"
      },
      "source": [
        "ufo_cords.groupby(\n",
        "    'cluster_label').count().reset_index().plot(kind='bar', \n",
        "                                              x='cluster_label', \n",
        "                                              figsize=(12,6), \n",
        "                                              title='Number of data points per Cluster')\n",
        "plt.xlabel(\"Clusters\")\n",
        "plt.ylabel(\"# of data points\")\n",
        "plt.show()"
      ],
      "execution_count": 32,
      "outputs": [
        {
          "output_type": "display_data",
          "data": {
            "image/png": "[encoded data removed]",
            "text/plain": [
              "<Figure size 864x432 with 1 Axes>"
            ]
          },
          "metadata": {
            "tags": [],
            "needs_background": "light"
          }
        }
      ]
    },
    {
      "cell_type": "code",
      "metadata": {
        "id": "4__TZFLw_aaP",
        "colab": {
          "base_uri": "https://localhost:8080/",
          "height": 369
        },
        "outputId": "105f72a4-cf53-48da-85fc-917c0d1ad637"
      },
      "source": [
        "counts = ufo_cords['cluster_label'].value_counts()\n",
        "\n",
        "total = len(ufo_cords['cluster_label'])\n",
        "\n",
        "frequency = counts/total*100\n",
        "\n",
        "frequency.plot(kind = 'bar',color=(0.2, 0.4, 0.6, 0.6))\n",
        "\n",
        "print(frequency)\n"
      ],
      "execution_count": 33,
      "outputs": [
        {
          "output_type": "stream",
          "text": [
            "1    42.394065\n",
            "4    31.892646\n",
            "0    19.103222\n",
            "3     4.984315\n",
            "2     1.625753\n",
            "Name: cluster_label, dtype: float64\n"
          ],
          "name": "stdout"
        },
        {
          "output_type": "display_data",
          "data": {
            "image/png": "[encoded data removed]",
            "text/plain": [
              "<Figure size 432x288 with 1 Axes>"
            ]
          },
          "metadata": {
            "tags": [],
            "needs_background": "light"
          }
        }
      ]
    },
    {
      "cell_type": "code",
      "metadata": {
        "id": "tGBPmUhHAjDl"
      },
      "source": [
        "#world = gpd.read_file('https://raw.githubusercontent.com/st-reid/temp/main/worldmap.json')"
      ],
      "execution_count": 34,
      "outputs": []
    },
    {
      "cell_type": "markdown",
      "metadata": {
        "id": "mykxCl_q8Wr0"
      },
      "source": [
        "## Question 6"
      ]
    },
    {
      "cell_type": "code",
      "metadata": {
        "id": "jwXE5gxhAkcq"
      },
      "source": [
        "## plot a dendogram\n",
        "\n",
        "from scipy.cluster.hierarchy import ward, dendrogram\n",
        "import scipy.cluster.hierarchy as sch"
      ],
      "execution_count": 35,
      "outputs": []
    },
    {
      "cell_type": "code",
      "metadata": {
        "id": "NONUxXNUHApp"
      },
      "source": [
        "#select first 1000 rows\n",
        "\n",
        "ufo_1000 = ufo_cords.head(1000)"
      ],
      "execution_count": 36,
      "outputs": []
    },
    {
      "cell_type": "code",
      "metadata": {
        "id": "Kmhfp3xFBYBy"
      },
      "source": [
        "ufo_1000.to_csv('ufo_1000.csv')"
      ],
      "execution_count": 37,
      "outputs": []
    },
    {
      "cell_type": "code",
      "metadata": {
        "id": "mNX4xD3PHKUN",
        "colab": {
          "base_uri": "https://localhost:8080/"
        },
        "outputId": "74096ce8-201a-4ca6-ac97-b1c10fee1df7"
      },
      "source": [
        "ufo_1000.info()"
      ],
      "execution_count": 38,
      "outputs": [
        {
          "output_type": "stream",
          "text": [
            "<class 'pandas.core.frame.DataFrame'>\n",
            "RangeIndex: 1000 entries, 0 to 999\n",
            "Data columns (total 3 columns):\n",
            " #   Column         Non-Null Count  Dtype  \n",
            "---  ------         --------------  -----  \n",
            " 0   latitude       1000 non-null   float64\n",
            " 1   longitude      1000 non-null   float64\n",
            " 2   cluster_label  1000 non-null   int32  \n",
            "dtypes: float64(2), int32(1)\n",
            "memory usage: 19.7 KB\n"
          ],
          "name": "stdout"
        }
      ]
    },
    {
      "cell_type": "code",
      "metadata": {
        "id": "HMP2HKEuFS0I"
      },
      "source": [
        "# create scaler object\n",
        "scaler = StandardScaler()\n",
        "\n",
        "# scale the data\n",
        "X_scaled = scaler.fit_transform(ufo_1000)"
      ],
      "execution_count": 39,
      "outputs": []
    },
    {
      "cell_type": "code",
      "metadata": {
        "id": "E4b8sTerESjR"
      },
      "source": [
        "linkage_matrix = sch.linkage(X_scaled, method='ward')"
      ],
      "execution_count": 40,
      "outputs": []
    },
    {
      "cell_type": "code",
      "metadata": {
        "id": "Pv237wMqFDYi",
        "colab": {
          "base_uri": "https://localhost:8080/",
          "height": 404
        },
        "outputId": "894b71eb-b557-4563-e5e9-24c4762adf53"
      },
      "source": [
        "# Generate and plot dendrogram\n",
        "plt.figure(figsize=(10,6))\n",
        "dendrogram = sch.dendrogram(linkage_matrix)#, no_plot=True) # no_plot because we want to plot manually\n",
        "\n",
        "# The linkage matrix also contains the disimilarity measures associated with each merge we've done\n",
        "# We can use these to plot a few horizontal lines on the dendrogram\n",
        "# that can help us find the right number of clusters better\n",
        "z = linkage_matrix[:,2]\n",
        "\n",
        "for i in range(1,16):\n",
        "    rng = [z[-i],z[-i]]\n",
        "    dom = [0,40000]\n",
        "    plt.plot(dom,rng,'black', alpha=0.3)\n",
        "\n",
        "plt.title('Dendrogram')\n",
        "plt.xlabel('Datapoints')\n",
        "plt.ylabel('Dissimilarity')\n",
        "\n",
        "plt.show()"
      ],
      "execution_count": 41,
      "outputs": [
        {
          "output_type": "display_data",
          "data": {
            "image/png": "[encoded data removed]",
            "text/plain": [
              "<Figure size 720x432 with 1 Axes>"
            ]
          },
          "metadata": {
            "tags": [],
            "needs_background": "light"
          }
        }
      ]
    },
    {
      "cell_type": "markdown",
      "metadata": {
        "id": "Wls6-oD_CUXt"
      },
      "source": [
        "## Question 7 - may crash so run all at peril"
      ]
    },
    {
      "cell_type": "code",
      "metadata": {
        "id": "Pv1ONEml2Yic"
      },
      "source": [
        "### dendogram of the years\n",
        "## use the co-ords only\n",
        "cols = ['latitude','longitude','city','state','country','shape','duration_(seconds)','duration_(hours/min)','comments','date_posted']\n",
        "\n",
        "ufo_years = ufo_df2.drop(cols, inplace=False, axis=1)\n",
        "\n",
        "ufo_years.head(5)\n",
        "scaler = StandardScaler()\n",
        "\n",
        "# scale the data\n",
        "X_scaledy = scaler.fit_transform(ufo_years)\n",
        "#"
      ],
      "execution_count": null,
      "outputs": []
    },
    {
      "cell_type": "code",
      "metadata": {
        "id": "W3jQkt5n2Yxj"
      },
      "source": [
        "linkage_matrix = sch.linkage(X_scaledy, method='average', metric='euclidean')"
      ],
      "execution_count": null,
      "outputs": []
    },
    {
      "cell_type": "code",
      "metadata": {
        "id": "U7rQ-b6k3n-p"
      },
      "source": [
        "# Generate and plot dendrogram\n",
        "plt.figure(figsize=(10,6))\n",
        "dendrogram = sch.dendrogram(linkage_matrix)#, no_plot=True) # no_plot because we want to plot manually\n",
        "\n",
        "# The linkage matrix also contains the disimilarity measures associated with each merge we've done\n",
        "# We can use these to plot a few horizontal lines on the dendrogram\n",
        "# that can help us find the right number of clusters better\n",
        "z = linkage_matrix[:,2]\n",
        "\n",
        "for i in range(1,16):\n",
        "    rng = [z[-i],z[-i]]\n",
        "    dom = [0,40000]\n",
        "    plt.plot(dom,rng,'black', alpha=0.3)\n",
        "\n",
        "plt.title('Dendrogram')\n",
        "plt.xlabel('Datapoints')\n",
        "plt.ylabel('Dissimilarity')\n",
        "\n",
        "plt.show()"
      ],
      "execution_count": null,
      "outputs": []
    },
    {
      "cell_type": "markdown",
      "metadata": {
        "id": "YxgofXPdDQNX"
      },
      "source": [
        ""
      ]
    },
    {
      "cell_type": "markdown",
      "metadata": {
        "id": "J8lOwDVRBmDh"
      },
      "source": [
        "## Question 8\n",
        "\n"
      ]
    },
    {
      "cell_type": "code",
      "metadata": {
        "id": "khgj_dCr5p3N",
        "colab": {
          "base_uri": "https://localhost:8080/",
          "height": 197
        },
        "outputId": "5a9fe7f6-5dac-40b9-c3c2-bce6f2b5cc95"
      },
      "source": [
        "### check the stop words\n",
        "\n",
        "cols = ['latitude','longitude','datetime','city','state','country','shape','duration_(seconds)','duration_(hours/min)','date_posted']\n",
        "\n",
        "ufo_comment = ufo_df2.drop(cols, inplace=False, axis=1)\n",
        "\n",
        "ufo_comment.head()\n"
      ],
      "execution_count": null,
      "outputs": [
        {
          "output_type": "execute_result",
          "data": {
            "text/html": [
              "<div>\n",
              "<style scoped>\n",
              "    .dataframe tbody tr th:only-of-type {\n",
              "        vertical-align: middle;\n",
              "    }\n",
              "\n",
              "    .dataframe tbody tr th {\n",
              "        vertical-align: top;\n",
              "    }\n",
              "\n",
              "    .dataframe thead th {\n",
              "        text-align: right;\n",
              "    }\n",
              "</style>\n",
              "<table border=\"1\" class=\"dataframe\">\n",
              "  <thead>\n",
              "    <tr style=\"text-align: right;\">\n",
              "      <th></th>\n",
              "      <th>comments</th>\n",
              "    </tr>\n",
              "  </thead>\n",
              "  <tbody>\n",
              "    <tr>\n",
              "      <th>0</th>\n",
              "      <td>This event took place in early fall around 194...</td>\n",
              "    </tr>\n",
              "    <tr>\n",
              "      <th>1</th>\n",
              "      <td>1949 Lackland AFB&amp;#44 TX.  Lights racing acros...</td>\n",
              "    </tr>\n",
              "    <tr>\n",
              "      <th>2</th>\n",
              "      <td>Green/Orange circular disc over Chester&amp;#44 En...</td>\n",
              "    </tr>\n",
              "    <tr>\n",
              "      <th>3</th>\n",
              "      <td>My older brother and twin sister were leaving ...</td>\n",
              "    </tr>\n",
              "    <tr>\n",
              "      <th>4</th>\n",
              "      <td>AS a Marine 1st Lt. flying an FJ4B fighter/att...</td>\n",
              "    </tr>\n",
              "  </tbody>\n",
              "</table>\n",
              "</div>"
            ],
            "text/plain": [
              "                                            comments\n",
              "0  This event took place in early fall around 194...\n",
              "1  1949 Lackland AFB&#44 TX.  Lights racing acros...\n",
              "2  Green/Orange circular disc over Chester&#44 En...\n",
              "3  My older brother and twin sister were leaving ...\n",
              "4  AS a Marine 1st Lt. flying an FJ4B fighter/att..."
            ]
          },
          "metadata": {
            "tags": []
          },
          "execution_count": 40
        }
      ]
    },
    {
      "cell_type": "code",
      "metadata": {
        "id": "XHt0q-Cj5qEx",
        "colab": {
          "base_uri": "https://localhost:8080/"
        },
        "outputId": "5d6a93c5-b6b5-49d6-fa97-d3e0331e4260"
      },
      "source": [
        "from sklearn.feature_extraction.text import TfidfVectorizer\n",
        "import nltk\n",
        "from nltk.corpus import stopwords\n",
        "nltk.download('stopwords')\n"
      ],
      "execution_count": null,
      "outputs": [
        {
          "output_type": "stream",
          "text": [
            "[nltk_data] Downloading package stopwords to /root/nltk_data...\n",
            "[nltk_data]   Unzipping corpora/stopwords.zip.\n"
          ],
          "name": "stdout"
        },
        {
          "output_type": "execute_result",
          "data": {
            "text/plain": [
              "True"
            ]
          },
          "metadata": {
            "tags": []
          },
          "execution_count": 43
        }
      ]
    },
    {
      "cell_type": "code",
      "metadata": {
        "id": "nhXNgnQ1-N1h"
      },
      "source": [
        "ufo_comment['comments'] = ufo_comment['comments'].fillna('')"
      ],
      "execution_count": null,
      "outputs": []
    },
    {
      "cell_type": "code",
      "metadata": {
        "id": "vou3MsXv-LXX"
      },
      "source": [
        "vectorizer = TfidfVectorizer(stop_words='english')\n",
        "\n",
        "X_vectorizedc = vectorizer.fit_transform(ufo_comment['comments'])"
      ],
      "execution_count": null,
      "outputs": []
    },
    {
      "cell_type": "code",
      "metadata": {
        "id": "nh4tolgKA9zg",
        "colab": {
          "base_uri": "https://localhost:8080/",
          "height": 231
        },
        "outputId": "4db62b88-ea37-498c-da7c-16fef96c320b"
      },
      "source": [
        "feature_names = vectorizer.get_feature_names()\n",
        "\n",
        "dense = vectors.todense()\n",
        "denselist = dense.tolist()\n",
        "df = pd.DataFrame(denselist, columns=feature_names)"
      ],
      "execution_count": null,
      "outputs": [
        {
          "output_type": "error",
          "ename": "NameError",
          "evalue": "ignored",
          "traceback": [
            "\u001b[0;31m---------------------------------------------------------------------------\u001b[0m",
            "\u001b[0;31mNameError\u001b[0m                                 Traceback (most recent call last)",
            "\u001b[0;32m<ipython-input-48-0c9a281a290e>\u001b[0m in \u001b[0;36m<module>\u001b[0;34m()\u001b[0m\n\u001b[1;32m      1\u001b[0m \u001b[0mfeature_names\u001b[0m \u001b[0;34m=\u001b[0m \u001b[0mvectorizer\u001b[0m\u001b[0;34m.\u001b[0m\u001b[0mget_feature_names\u001b[0m\u001b[0;34m(\u001b[0m\u001b[0;34m)\u001b[0m\u001b[0;34m\u001b[0m\u001b[0;34m\u001b[0m\u001b[0m\n\u001b[1;32m      2\u001b[0m \u001b[0;34m\u001b[0m\u001b[0m\n\u001b[0;32m----> 3\u001b[0;31m \u001b[0mdense\u001b[0m \u001b[0;34m=\u001b[0m \u001b[0mvectors\u001b[0m\u001b[0;34m.\u001b[0m\u001b[0mtodense\u001b[0m\u001b[0;34m(\u001b[0m\u001b[0;34m)\u001b[0m\u001b[0;34m\u001b[0m\u001b[0;34m\u001b[0m\u001b[0m\n\u001b[0m\u001b[1;32m      4\u001b[0m \u001b[0mdenselist\u001b[0m \u001b[0;34m=\u001b[0m \u001b[0mdense\u001b[0m\u001b[0;34m.\u001b[0m\u001b[0mtolist\u001b[0m\u001b[0;34m(\u001b[0m\u001b[0;34m)\u001b[0m\u001b[0;34m\u001b[0m\u001b[0;34m\u001b[0m\u001b[0m\n\u001b[1;32m      5\u001b[0m \u001b[0mdf\u001b[0m \u001b[0;34m=\u001b[0m \u001b[0mpd\u001b[0m\u001b[0;34m.\u001b[0m\u001b[0mDataFrame\u001b[0m\u001b[0;34m(\u001b[0m\u001b[0mdenselist\u001b[0m\u001b[0;34m,\u001b[0m \u001b[0mcolumns\u001b[0m\u001b[0;34m=\u001b[0m\u001b[0mfeature_names\u001b[0m\u001b[0;34m)\u001b[0m\u001b[0;34m\u001b[0m\u001b[0;34m\u001b[0m\u001b[0m\n",
            "\u001b[0;31mNameError\u001b[0m: name 'vectors' is not defined"
          ]
        }
      ]
    },
    {
      "cell_type": "markdown",
      "metadata": {
        "id": "S2dMNmt3BvPH"
      },
      "source": [
        "### Question 9\n"
      ]
    },
    {
      "cell_type": "code",
      "metadata": {
        "id": "x6wt_grtBcL5"
      },
      "source": [
        "##Question 9\n",
        "\n",
        "vectorizer = TfidfVectorizer(max_features=20, stop_words='english')\n",
        "\n",
        "\n",
        "X_vectorizedc2 = vectorizer.fit_transform(ufo_comment['comments'])"
      ],
      "execution_count": null,
      "outputs": []
    },
    {
      "cell_type": "code",
      "metadata": {
        "id": "uBe4PYpcBzP8"
      },
      "source": [
        "from sklearn.decomposition import PCA\n",
        "\n",
        "pca = PCA(n_components=10,random_state=1)"
      ],
      "execution_count": null,
      "outputs": []
    },
    {
      "cell_type": "code",
      "metadata": {
        "id": "H_Onx2oSBzdT",
        "colab": {
          "base_uri": "https://localhost:8080/",
          "height": 374
        },
        "outputId": "1ad47797-2669-4eae-b553-f86d769eb013"
      },
      "source": [
        "prin_comp = pca.fit_transform(X_vectorizedc2)\n",
        "\n",
        "# create a dataframe containing the principal components\n",
        "pca_df = pd.DataFrame(data = prin_comp)\n",
        "\n",
        "pca_df[\"comments\"] = ufo_comment[\"comments\"]"
      ],
      "execution_count": null,
      "outputs": [
        {
          "output_type": "error",
          "ename": "TypeError",
          "evalue": "ignored",
          "traceback": [
            "\u001b[0;31m---------------------------------------------------------------------------\u001b[0m",
            "\u001b[0;31mTypeError\u001b[0m                                 Traceback (most recent call last)",
            "\u001b[0;32m<ipython-input-54-233b13414692>\u001b[0m in \u001b[0;36m<module>\u001b[0;34m()\u001b[0m\n\u001b[0;32m----> 1\u001b[0;31m \u001b[0mprin_comp\u001b[0m \u001b[0;34m=\u001b[0m \u001b[0mpca\u001b[0m\u001b[0;34m.\u001b[0m\u001b[0mfit_transform\u001b[0m\u001b[0;34m(\u001b[0m\u001b[0mX_vectorizedc2\u001b[0m\u001b[0;34m)\u001b[0m\u001b[0;34m\u001b[0m\u001b[0;34m\u001b[0m\u001b[0m\n\u001b[0m\u001b[1;32m      2\u001b[0m \u001b[0;34m\u001b[0m\u001b[0m\n\u001b[1;32m      3\u001b[0m \u001b[0;31m# create a dataframe containing the principal components\u001b[0m\u001b[0;34m\u001b[0m\u001b[0;34m\u001b[0m\u001b[0;34m\u001b[0m\u001b[0m\n\u001b[1;32m      4\u001b[0m \u001b[0mpca_df\u001b[0m \u001b[0;34m=\u001b[0m \u001b[0mpd\u001b[0m\u001b[0;34m.\u001b[0m\u001b[0mDataFrame\u001b[0m\u001b[0;34m(\u001b[0m\u001b[0mdata\u001b[0m \u001b[0;34m=\u001b[0m \u001b[0mprin_comp\u001b[0m\u001b[0;34m)\u001b[0m\u001b[0;34m\u001b[0m\u001b[0;34m\u001b[0m\u001b[0m\n\u001b[1;32m      5\u001b[0m \u001b[0;34m\u001b[0m\u001b[0m\n",
            "\u001b[0;32m/usr/local/lib/python3.6/dist-packages/sklearn/decomposition/_pca.py\u001b[0m in \u001b[0;36mfit_transform\u001b[0;34m(self, X, y)\u001b[0m\n\u001b[1;32m    367\u001b[0m         \u001b[0mC\u001b[0m\u001b[0;34m-\u001b[0m\u001b[0mordered\u001b[0m \u001b[0marray\u001b[0m\u001b[0;34m,\u001b[0m \u001b[0muse\u001b[0m \u001b[0;34m'np.ascontiguousarray'\u001b[0m\u001b[0;34m.\u001b[0m\u001b[0;34m\u001b[0m\u001b[0;34m\u001b[0m\u001b[0m\n\u001b[1;32m    368\u001b[0m         \"\"\"\n\u001b[0;32m--> 369\u001b[0;31m         \u001b[0mU\u001b[0m\u001b[0;34m,\u001b[0m \u001b[0mS\u001b[0m\u001b[0;34m,\u001b[0m \u001b[0mV\u001b[0m \u001b[0;34m=\u001b[0m \u001b[0mself\u001b[0m\u001b[0;34m.\u001b[0m\u001b[0m_fit\u001b[0m\u001b[0;34m(\u001b[0m\u001b[0mX\u001b[0m\u001b[0;34m)\u001b[0m\u001b[0;34m\u001b[0m\u001b[0;34m\u001b[0m\u001b[0m\n\u001b[0m\u001b[1;32m    370\u001b[0m         \u001b[0mU\u001b[0m \u001b[0;34m=\u001b[0m \u001b[0mU\u001b[0m\u001b[0;34m[\u001b[0m\u001b[0;34m:\u001b[0m\u001b[0;34m,\u001b[0m \u001b[0;34m:\u001b[0m\u001b[0mself\u001b[0m\u001b[0;34m.\u001b[0m\u001b[0mn_components_\u001b[0m\u001b[0;34m]\u001b[0m\u001b[0;34m\u001b[0m\u001b[0;34m\u001b[0m\u001b[0m\n\u001b[1;32m    371\u001b[0m \u001b[0;34m\u001b[0m\u001b[0m\n",
            "\u001b[0;32m/usr/local/lib/python3.6/dist-packages/sklearn/decomposition/_pca.py\u001b[0m in \u001b[0;36m_fit\u001b[0;34m(self, X)\u001b[0m\n\u001b[1;32m    385\u001b[0m         \u001b[0;31m# This is more informative than the generic one raised by check_array.\u001b[0m\u001b[0;34m\u001b[0m\u001b[0;34m\u001b[0m\u001b[0;34m\u001b[0m\u001b[0m\n\u001b[1;32m    386\u001b[0m         \u001b[0;32mif\u001b[0m \u001b[0missparse\u001b[0m\u001b[0;34m(\u001b[0m\u001b[0mX\u001b[0m\u001b[0;34m)\u001b[0m\u001b[0;34m:\u001b[0m\u001b[0;34m\u001b[0m\u001b[0;34m\u001b[0m\u001b[0m\n\u001b[0;32m--> 387\u001b[0;31m             raise TypeError('PCA does not support sparse input. See '\n\u001b[0m\u001b[1;32m    388\u001b[0m                             'TruncatedSVD for a possible alternative.')\n\u001b[1;32m    389\u001b[0m \u001b[0;34m\u001b[0m\u001b[0m\n",
            "\u001b[0;31mTypeError\u001b[0m: PCA does not support sparse input. See TruncatedSVD for a possible alternative."
          ]
        }
      ]
    },
    {
      "cell_type": "code",
      "metadata": {
        "id": "CQPrqy9vGQJV"
      },
      "source": [
        "clf = TruncatedSVD(n_compo)"
      ],
      "execution_count": null,
      "outputs": []
    }
  ]
}